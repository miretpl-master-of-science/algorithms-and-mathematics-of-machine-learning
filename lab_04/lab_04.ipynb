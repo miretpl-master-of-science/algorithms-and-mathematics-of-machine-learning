{
 "cells": [
  {
   "cell_type": "markdown",
   "id": "59b5dc28",
   "metadata": {},
   "source": [
    "# Algorithms and mathematics of machine learning\n",
    "## Laboratory 4\n",
    "\n",
    "To complete the laboratory, use the libraries:\n",
    "- [numpy](https://numpy.org/)\n",
    "- [matplotlib](https://matplotlib.org/)"
   ]
  },
  {
   "cell_type": "markdown",
   "source": [
    "### Task 1\n",
    "\n",
    "Given the following list of rectangles:\n",
    "```\n",
    "rectangles = [(\"R1\", 5, 4.5), (\"Wide\", 11, 3), (\"R2\", 4, 6), (\"Narrow\", 3, 8), (\"Square 1\", 5, 5), (\"Square 2\", 4.5, 4.5)]\n",
    "```\n",
    "where the subsequent tuple fields are:\n",
    "- name,\n",
    "- width,\n",
    "- height.\n",
    "\n",
    "#### A)\n",
    "Based on it, create a structured Numpy array (`np.array(...)`), then sort the rectangles in ascending order by field, and in case of equality, let the name of the rectangle decide (alphabetically).\n",
    "\n",
    "#### B)\n",
    "Output the sorted array, in field order:\n",
    "1. width,\n",
    "2. height,\n",
    "3. name.\n",
    "\n",
    "> NOTE: Where possible, operate on types and functions from the Numpy library."
   ],
   "metadata": {
    "collapsed": false
   },
   "id": "a85b0a38b47db418"
  },
  {
   "cell_type": "code",
   "execution_count": 1,
   "id": "adf73c67",
   "metadata": {
    "ExecuteTime": {
     "end_time": "2024-01-13T23:49:34.697307Z",
     "start_time": "2024-01-13T23:49:34.118600400Z"
    }
   },
   "outputs": [
    {
     "data": {
      "text/plain": "array([['Square 2', '4.5', '4.5'],\n       ['R1', '5', '4.5'],\n       ['Narrow', '3', '8'],\n       ['R2', '4', '6'],\n       ['Square 1', '5', '5'],\n       ['Wide', '11', '3']], dtype='<U32')"
     },
     "execution_count": 1,
     "metadata": {},
     "output_type": "execute_result"
    }
   ],
   "source": [
    "rectangles = [(\"R1\", 5, 4.5), (\"Wide\", 11, 3), (\"R2\", 4, 6), (\"Narrow\", 3, 8), (\"Square 1\", 5, 5), (\"Square 2\", 4.5, 4.5)]\n",
    "\n",
    "# A\n",
    "from numpy import array\n",
    "\n",
    "\n",
    "def sort_func(elements: tuple) -> tuple:\n",
    "    return elements[1].astype(float) * elements[2].astype(float), elements[0]\n",
    "\n",
    "\n",
    "np_rectangles = array(rectangles)\n",
    "np_rectangles = array(sorted(np_rectangles, key=sort_func))\n",
    "np_rectangles"
   ]
  },
  {
   "cell_type": "code",
   "execution_count": 2,
   "outputs": [
    {
     "data": {
      "text/plain": "array([['Wide', '11', '3'],\n       ['Narrow', '3', '8'],\n       ['R2', '4', '6'],\n       ['Square 2', '4.5', '4.5'],\n       ['R1', '5', '4.5'],\n       ['Square 1', '5', '5']], dtype='<U32')"
     },
     "execution_count": 2,
     "metadata": {},
     "output_type": "execute_result"
    }
   ],
   "source": [
    "# B1 - width\n",
    "np_rectangles = array(rectangles)\n",
    "np_rectangles[np_rectangles[:, 1].argsort()]"
   ],
   "metadata": {
    "collapsed": false,
    "pycharm": {
     "name": "#%%\n"
    },
    "ExecuteTime": {
     "end_time": "2024-01-13T23:49:34.750784Z",
     "start_time": "2024-01-13T23:49:34.705306100Z"
    }
   },
   "id": "dbeb393f11972afe"
  },
  {
   "cell_type": "code",
   "execution_count": 3,
   "outputs": [
    {
     "data": {
      "text/plain": "array([['Wide', '11', '3'],\n       ['R1', '5', '4.5'],\n       ['Square 2', '4.5', '4.5'],\n       ['Square 1', '5', '5'],\n       ['R2', '4', '6'],\n       ['Narrow', '3', '8']], dtype='<U32')"
     },
     "execution_count": 3,
     "metadata": {},
     "output_type": "execute_result"
    }
   ],
   "source": [
    "# B2 - height\n",
    "np_rectangles = array(rectangles)\n",
    "np_rectangles[np_rectangles[:, 2].argsort()]"
   ],
   "metadata": {
    "collapsed": false,
    "pycharm": {
     "name": "#%%\n"
    },
    "ExecuteTime": {
     "end_time": "2024-01-13T23:49:34.808142100Z",
     "start_time": "2024-01-13T23:49:34.748600400Z"
    }
   },
   "id": "ac2f756acd508647"
  },
  {
   "cell_type": "code",
   "execution_count": 4,
   "outputs": [
    {
     "data": {
      "text/plain": "array([['Narrow', '3', '8'],\n       ['R1', '5', '4.5'],\n       ['R2', '4', '6'],\n       ['Square 1', '5', '5'],\n       ['Square 2', '4.5', '4.5'],\n       ['Wide', '11', '3']], dtype='<U32')"
     },
     "execution_count": 4,
     "metadata": {},
     "output_type": "execute_result"
    }
   ],
   "source": [
    "# B3 - name\n",
    "np_rectangles = array(rectangles)\n",
    "np_rectangles[np_rectangles[:, 0].argsort()]"
   ],
   "metadata": {
    "collapsed": false,
    "pycharm": {
     "name": "#%%\n"
    },
    "ExecuteTime": {
     "end_time": "2024-01-13T23:49:34.866135700Z",
     "start_time": "2024-01-13T23:49:34.807138Z"
    }
   },
   "id": "43125fb925794210"
  },
  {
   "cell_type": "markdown",
   "id": "ca4e7af2",
   "metadata": {},
   "source": [
    "### Task 2 - 2048 game\n",
    "\n",
    "There is a square board with side `SIZE' (e.g. 4) for the well-known game 2048 (https://2048game.com/).\n",
    "Each line contains from 0 to 4 numbers. You need to, using Numpy's construction, simulate movement left, right, up and down the board according to the rules of the game (but **WITHOUT** adding a new tile in a random place). In other words, you need to write four functions:\n",
    "- `move_left(...)`,\n",
    "- `move_right(...)`,\n",
    "- `move_up(...)`,\n",
    "- `move_down(...)`.\n",
    "\n",
    "Example of a right move:\n",
    "\n",
    "The input and output of each of both functions is a 2-dimensional Numpy array.\n",
    "\n",
    "> NOTE: try to write a function for only one move, and let the other three refer to it in a clever way.\n",
    "\n",
    "#### Example of a right move:\n",
    "$\\begin{bmatrix}%\n",
    "2 & 16 & 2 & 2\\\\\n",
    "8 & 0 & 0 & 4\\\\\n",
    "2 & 0 & 0 & 2\\\\\n",
    "4 & 4 & 4 & 4%\n",
    "\\end{bmatrix}$\n",
    "$move \\ right$\n",
    "$\\begin{bmatrix}%\n",
    "0 & 2 & 16 & 4\\\\\n",
    "8 & 0 & 8 & 4\\\\\n",
    "0 & 0 & 0 & 4\\\\\n",
    "0 & 0 & 8 & 8%\n",
    "\\end{bmatrix}$"
   ]
  },
  {
   "cell_type": "code",
   "execution_count": 5,
   "id": "81391828",
   "metadata": {
    "ExecuteTime": {
     "end_time": "2024-01-13T23:49:34.931233Z",
     "start_time": "2024-01-13T23:49:34.861135600Z"
    }
   },
   "outputs": [
    {
     "data": {
      "text/plain": "array([[2, 0, 2, 0],\n       [2, 2, 0, 0],\n       [4, 4, 2, 2],\n       [4, 4, 2, 2]])"
     },
     "execution_count": 5,
     "metadata": {},
     "output_type": "execute_result"
    }
   ],
   "source": [
    "board = array([[2, 0, 2, 0], [2, 2, 0, 0], [4, 4, 2, 2], [4, 4, 2, 2]])\n",
    "board"
   ]
  },
  {
   "cell_type": "code",
   "execution_count": 6,
   "outputs": [],
   "source": [
    "from numpy import ndarray, fliplr, flipud, rot90\n",
    "\n",
    "\n",
    "def move_left(arr: ndarray) -> ndarray:\n",
    "    for row in range(arr.shape[0]):\n",
    "        for column in range(arr.shape[1] - 1):\n",
    "            arr[row] = array(sorted(arr[row], key=lambda x: not x))\n",
    "\n",
    "            if arr[row][column] == arr[row][column + 1]:\n",
    "                arr[row][column] *= 2\n",
    "                arr[row][column + 1] = 0\n",
    "\n",
    "    return arr\n",
    "\n",
    "\n",
    "def move_right(arr: ndarray) -> ndarray:\n",
    "    return fliplr(move_left(fliplr(arr)))\n",
    "\n",
    "\n",
    "def move_down(arr: ndarray) -> ndarray:\n",
    "    return rot90(move_left(rot90(arr, 3)))\n",
    "\n",
    "\n",
    "def move_up(arr: ndarray) -> ndarray:\n",
    "    return flipud(move_down(flipud(arr)))"
   ],
   "metadata": {
    "collapsed": false,
    "pycharm": {
     "name": "#%%\n"
    },
    "ExecuteTime": {
     "end_time": "2024-01-13T23:49:35.048445100Z",
     "start_time": "2024-01-13T23:49:34.935239800Z"
    }
   },
   "id": "dd83593ae7cb5224"
  },
  {
   "cell_type": "code",
   "execution_count": 7,
   "outputs": [
    {
     "data": {
      "text/plain": "array([[4, 0, 0, 0],\n       [4, 0, 0, 0],\n       [8, 4, 0, 0],\n       [8, 4, 0, 0]])"
     },
     "execution_count": 7,
     "metadata": {},
     "output_type": "execute_result"
    }
   ],
   "source": [
    "# move left\n",
    "board = array([[2, 0, 2, 0], [2, 2, 0, 0], [4, 4, 2, 2], [4, 4, 2, 2]])\n",
    "move_left(board)"
   ],
   "metadata": {
    "collapsed": false,
    "pycharm": {
     "name": "#%%\n"
    },
    "ExecuteTime": {
     "end_time": "2024-01-13T23:49:35.092514200Z",
     "start_time": "2024-01-13T23:49:35.051444200Z"
    }
   },
   "id": "dc0b447de7d76bd0"
  },
  {
   "cell_type": "code",
   "execution_count": 8,
   "outputs": [
    {
     "data": {
      "text/plain": "array([[0, 0, 0, 4],\n       [0, 0, 0, 4],\n       [0, 0, 8, 4],\n       [0, 0, 8, 4]])"
     },
     "execution_count": 8,
     "metadata": {},
     "output_type": "execute_result"
    }
   ],
   "source": [
    "# move right\n",
    "board = array([[2, 0, 2, 0], [2, 2, 0, 0], [4, 4, 2, 2], [4, 4, 2, 2]])\n",
    "move_right(board)"
   ],
   "metadata": {
    "collapsed": false,
    "pycharm": {
     "name": "#%%\n"
    },
    "ExecuteTime": {
     "end_time": "2024-01-13T23:49:35.117204700Z",
     "start_time": "2024-01-13T23:49:35.084440200Z"
    }
   },
   "id": "258296089b5244f1"
  },
  {
   "cell_type": "code",
   "execution_count": 9,
   "outputs": [
    {
     "data": {
      "text/plain": "array([[4, 2, 4, 4],\n       [8, 8, 2, 0],\n       [0, 0, 0, 0],\n       [0, 0, 0, 0]])"
     },
     "execution_count": 9,
     "metadata": {},
     "output_type": "execute_result"
    }
   ],
   "source": [
    "# move up\n",
    "board = array([[2, 0, 2, 0], [2, 2, 0, 0], [4, 4, 2, 2], [4, 4, 2, 2]])\n",
    "move_up(board)"
   ],
   "metadata": {
    "collapsed": false,
    "pycharm": {
     "name": "#%%\n"
    },
    "ExecuteTime": {
     "end_time": "2024-01-13T23:49:35.174386800Z",
     "start_time": "2024-01-13T23:49:35.115202700Z"
    }
   },
   "id": "fdad8d952b85d596"
  },
  {
   "cell_type": "code",
   "execution_count": 10,
   "outputs": [
    {
     "data": {
      "text/plain": "array([[0, 0, 0, 0],\n       [0, 0, 0, 0],\n       [4, 2, 2, 0],\n       [8, 8, 4, 4]])"
     },
     "execution_count": 10,
     "metadata": {},
     "output_type": "execute_result"
    }
   ],
   "source": [
    "# move down\n",
    "board = array([[2, 0, 2, 0], [2, 2, 0, 0], [4, 4, 2, 2], [4, 4, 2, 2]])\n",
    "move_down(board)"
   ],
   "metadata": {
    "collapsed": false,
    "pycharm": {
     "name": "#%%\n"
    },
    "ExecuteTime": {
     "end_time": "2024-01-13T23:49:35.194447300Z",
     "start_time": "2024-01-13T23:49:35.166377800Z"
    }
   },
   "id": "1de922418e0676d4"
  }
 ],
 "metadata": {
  "author": {
   "email": "robert.susik@p.lodz.pl",
   "name": "Robert Susik"
  },
  "kernelspec": {
   "display_name": "Python 3 (ipykernel)",
   "language": "python",
   "name": "python3"
  },
  "language_info": {
   "codemirror_mode": {
    "name": "ipython",
    "version": 3
   },
   "file_extension": ".py",
   "mimetype": "text/x-python",
   "name": "python",
   "nbconvert_exporter": "python",
   "pygments_lexer": "ipython3",
   "version": "3.8.12"
  },
  "toc": {
   "base_numbering": 1,
   "nav_menu": {},
   "number_sections": true,
   "sideBar": true,
   "skip_h1_title": false,
   "title_cell": "Table of Contents",
   "title_sidebar": "Contents",
   "toc_cell": false,
   "toc_position": {},
   "toc_section_display": true,
   "toc_window_display": false
  }
 },
 "nbformat": 4,
 "nbformat_minor": 5
}
