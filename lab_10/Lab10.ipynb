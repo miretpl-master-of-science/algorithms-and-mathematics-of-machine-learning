{
 "cells": [
  {
   "cell_type": "markdown",
   "id": "459c8073",
   "metadata": {
    "pycharm": {
     "name": "#%% md\n"
    }
   },
   "source": [
    "# Algorytmika i matematyka uczenia maszynowego \n",
    "## Laboratorium 10\n",
    "\n",
    "### Wstęp\n",
    "\n",
    "Firma produkująca produkty mleczne posiada kilka zamówień do realizacji. Dane są zaprezentowane poniżej.\n",
    "\n",
    "### Dane\n",
    "\n",
    "**Ceny składników:**\n",
    "\n",
    "| Składnik     | Cena (PLN) |\n",
    "| :---         | ---: |\n",
    "| Mleko (l)    | 3.5 |\n",
    "| Cukier (kg)  | 5   |\n",
    "| Kakao (100g) | 8   |\n",
    "| Sól (kg)     | 2   |\n",
    "\n",
    "\n",
    "**Składniki zapisane są w tabeli poniżej:**\n",
    "\n",
    "| Prod.\\Skł.| Mleko (l) | Cukier (kg)  | Kakao (100g) | Sól (kg)    |\n",
    "| :---      |      ---: |         ---: |         ---: |        ---: |\n",
    "| Masło     | 5         | 0            | 0            | 0           |\n",
    "| Czekolada | 1         | 0.1          | 5            | 0.01        |\n",
    "| Ser żółty | 10        | 0            | 0            | 0.05        |\n",
    "| Twaróg    | 2         | 0            | 0            | 0.1         |\n",
    "\n",
    "\n",
    "**Zamówienia klientów:**\n",
    "\n",
    "| Klient\\Prod.| Masło | Czekolada | Ser żółty | Twaróg |\n",
    "| :---        |  ---: |      ---: |      ---: |   ---: |\n",
    "| Klient 1    | 10    | 50        | 5         | 5      |\n",
    "| Klient 2    | 120   | 90        | 15        | 25     |\n",
    "| Klient 3    | 0     | 10        | 1         | 1      |\n",
    "\n",
    "\n",
    "> **Uwaga**: Możesz użyć funkcji `plt.table` do wyświetlenia tabeli z wynikami.\n",
    "\n",
    "> Informacja: Powyższe dane są przykładowe i nie mają przełożenia na faktyczne dane rynkowe.\n",
    "\n",
    "### Zadanie 1\n",
    "\n",
    "Korzystając z operacji macierzowych oblicz i odpowiedz na pytania:\n",
    "\n",
    "#### A) Jaki jest koszt wyprodukowania każdego z produktów?\n",
    "\n",
    "<img src=\"data:image/png;base64,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\" />\n",
    "\n",
    "\n",
    "\n",
    "\n"
   ]
  },
  {
   "cell_type": "code",
   "execution_count": 1,
   "id": "6f35a8fb",
   "metadata": {
    "pycharm": {
     "name": "#%%\n"
    }
   },
   "outputs": [],
   "source": [
    "from numpy import array\n",
    "from pandas import DataFrame\n",
    "\n",
    "\n",
    "ingredients = DataFrame(data=array([3.5, 5, 8, 2]), index=['Mleko (l)', 'Cukier (kg)', 'Kakao (100g)', 'Sól (kg)'])\n",
    "products = DataFrame(\n",
    "    data=array([[5, 0, 0, 0], [1, 0.1, 5, 0.01], [10, 0, 0, 0.05], [2, 0, 0, 0.1]]),\n",
    "    index=['Masło', 'Czekolada', 'Ser żółty', 'Twaróg'],\n",
    "    columns=['Mleko (l)', 'Cukier (kg)', 'Kakao (100g)', 'Sól (kg)']\n",
    ")\n",
    "clients = DataFrame(\n",
    "    data=array([[10, 50, 5, 5], [120, 90, 15, 25], [0, 10, 1, 1]]),\n",
    "    index=['Klient 1', 'Klient 2', 'Klient 3'],\n",
    "    columns=['Masło', 'Czekolada', 'Ser żółty', 'Twaróg']\n",
    ")"
   ]
  },
  {
   "cell_type": "code",
   "execution_count": 17,
   "outputs": [
    {
     "data": {
      "text/plain": "               0\nMasło      17.50\nCzekolada  44.02\nSer żółty  35.10\nTwaróg      7.20",
      "text/html": "<div>\n<style scoped>\n    .dataframe tbody tr th:only-of-type {\n        vertical-align: middle;\n    }\n\n    .dataframe tbody tr th {\n        vertical-align: top;\n    }\n\n    .dataframe thead th {\n        text-align: right;\n    }\n</style>\n<table border=\"1\" class=\"dataframe\">\n  <thead>\n    <tr style=\"text-align: right;\">\n      <th></th>\n      <th>0</th>\n    </tr>\n  </thead>\n  <tbody>\n    <tr>\n      <th>Masło</th>\n      <td>17.50</td>\n    </tr>\n    <tr>\n      <th>Czekolada</th>\n      <td>44.02</td>\n    </tr>\n    <tr>\n      <th>Ser żółty</th>\n      <td>35.10</td>\n    </tr>\n    <tr>\n      <th>Twaróg</th>\n      <td>7.20</td>\n    </tr>\n  </tbody>\n</table>\n</div>"
     },
     "execution_count": 17,
     "metadata": {},
     "output_type": "execute_result"
    }
   ],
   "source": [
    "cost = products @ ingredients\n",
    "cost"
   ],
   "metadata": {
    "collapsed": false,
    "pycharm": {
     "name": "#%%\n"
    }
   }
  },
  {
   "cell_type": "markdown",
   "id": "74c03b21",
   "metadata": {
    "pycharm": {
     "name": "#%% md\n"
    }
   },
   "source": [
    "#### B) Ile składników zostanie uzytych na realizację zamówień klientów (każdego osobno i łącznie)?\n",
    "\n",
    "<img src=\"data:image/png;base64,iVBORw0KGgoAAAANSUhEUgAAAVsAAABHCAYAAACprOS5AAAUHXpUWHRSYXcgcHJvZmlsZSB0eXBlIGV4aWYAAHjarZprduM4koX/YxWzBOIZwHLwPKd30Muf70JyprPSzqqe6VKlJUsUCUbcuA/Sbv/7X8f9D/9l7x+XstXSSnn4L7XUQudFfV7/tfvTP+n+vP/l8X7lf33fJXt/KfBW5Dm+frX+evad9/PPL3wcw49f33f1/Umo7x29P/jYYdSRAy/W50Xyfni979N7R22/XpRW7fNSR3g9z/eGdynvf9Hurn/sRL+7z28ko0ors1UMYUcfn/szvVYQ9S/EznPmp48lfHrH3aePU6Igv5zex/PzfC7QL0X+eOX+Wv2Yvi5+6O8t4l9qWd414sWXH/j8dfFviT8f+MeKwq8fzMeH307n/e+cVc/Zr7PrqVDR8kbU4z6qo++w4aDk8X6t8DD+ZV7bfTQe9enPpDmLIw4e0zcf6MpxPvnluz9+3+fpJ0tMYQfjOYQZ4n2vRgstTBpDF/XwJ1hsccVK32bYLkbeDj/W4u9x2z3e9JUjL8+mwbMzf5v9zcP96cP/5OHOmSqRv4hNt1asK6jgLEOd00+2oiH+vPuWb4E/Hu/2P5+ABVTpYL5lrpxgf8ZrFyP7n9iKt8+R7TLPL9x5Z+u9A0rEsTOL8ZEOPMXH7It/LATznjpWGtRZeYgpDDrgcw6LRYYUmRZnoQYdm++Yv9uGHErQ23ATjcixRKM3LXaalVIGP5YqGOo55pRzLtlydbnlXmJJJZdSrIjkukVLlq2YWbVmvcaaaq6lWq211d5Ci3BgbqVZq6213oPrHKizr872nXdGGHGkkUcZNupoo0/gM9PMs0ybdbbZV1hxQROrLFt1tdW3dxum2GnnXbbtutvuB6ydeNLJpxw79bTTf3Tt3dXfHv9B1/y7a+F2StvZj67xrjP72IUXnWT1jI6F5Om4qQMAOqhnT/UpBXVOPXtaYChyYJFZvXHLq2O0MG0f8vE/evezc/+oby7Xf9S38Hedc2rdf6Nzjtb93rcvurb6Zb14+6YpVE2fyPQdC6M3V/bYqyGgayTYw8aOZoXTE7dY6pWZ9tWO9RZZR7az7YR5zrmzPvRcd47sqM4Zcxn5wGe+nBDy3Lx+Jh+dFXpZy7T5iXOvcfYZhV9Z4Dwrda069VFcvkWYI3OiECJVX234OFrdjx3eP3TmWYMTNto9ntbz2FSwHCrlU+srbRjRzZL8hMkth8fy3lSQoe3eGlUEFhR++YLu1pLyEa3OamXQ5DW3tzWN2tTSnW9AYsXcGt2vlnax2hN4bGU/I4YxSmTnHI5G2s5wn4UF0jmTOahprtDNiM4acMwgwZdy6uozVT9Pa2fP1sfYufRb0HhaoVT1qYupoVHUoGTIqQXmiBqdEaPB/GEC+oA/YhE7UutYgfg6oANAWb7lnifeSj9DZUdbEOC5LZfaXWIjT8OTzdVi8doscQ6RtcRz0JvVO70cmX01qh+1xXzS3eGOjU7Qnu1O3Hzo1zDBjo8Or8wDwL7A2MVL21Y4IdNGFXNlcZlH+VoAzpsRsDFcTXP5WZdvOY9QzmaIU9PXwWjchdleh1b4cHzg0DkNmB3UNjN+KwAqbBro0mFdwPcgAt0YnXrgjTXTibmu4dlql1Qnh84NET1INlNk1WdqOg0Qb0zadgzfcxpbUn0aupCMwLAnlmIgTpTCjHI+pTN7QmXhgAhz7qerb+NhZiy7Umdqq/Y5F2/7FUvzJ/exnshXLXqRBOhsdU1wszqEAwNWan7n3/NNIJUdVAHRWFoAiUfY7B2palQdiRubVnByYNPv/hzPubCOgaVmPz3wg8odP+Cj2sA9VocvxzUWw8M4d/ikL6iXwwsbiQphJijgmvVCRLjYbdmzOjBew/H1CX2VEmJdCbyGuSjKc2FX8KYLMySHNXcRGscGTDRybb9Xjmn5tWjN484zB3sdqeyec/VWNt5HoI0R6MPuPfD9GPbeYe0FyRTbQBwiODEeiPcMgOjAUCoAbPiTaCoMU0KHkfrgtzSx8XOxTmY0R9owOJ8THyae8oU2LPanrx27g4jywAZgPrNtKLrJJpQB37IizwlvWwwu+27QyukVoHIk6tInzLF924HOOMZ3PlKUOCpKsYHPAC8UKFru9xu0G860g8AEdraXcegyyzOYQmocTpqMCPVo+/SWNhoGd63OgfOCnyCUAmlQnVjzhGPhTdhvpdqBbgM81BBkUzobzqr4twg9SLBf6SzmjslLIH0/FEX20w92tJIhF3kvOgbLsnpoe/ocxwjTpW3mF46XdnPGJvuHgAaqjd0KqQK6WZtMFe0J0cQ0GU3o6BeMvIDxAp1uzbxWpxOL7iGPpTAyJu8VDxsYpbDRqFzY4sbVYAiQI9YBFTsWBLDn5B3UkABnbhi/RafpBdB4Ypd/xqZjkQ1W8MAQ3LBcH3fHCrBxyg+voejBwp0GG+gvvLiHB9QdVsUxxqAgAYw2owoEKh8r7CwqZdz32Zlu2CRZZWZ5O0t4CagwnNZLWeI96nAARZv0cgJCfCQVMrG7JgYSF9Sq2m80NcyU5nS4nYI8SxegNxbWWC7l3xC7KHCPy046LcQozMxobpNQZTgx0DTADxU7BYppfsL2DaDmTnNFBanyVQIN+dQXvnDwQwpOTBpWTLTKecDAE1XFjS4X+kLh+J9K74zysAPkyKPMyFFAkAIzDRI4GnghlHPWO3T0BPPcz6N6QAvQCDSx2GYOGTyDcpljLw8El4EDUpAoauAv1COwtpnCOYA0RhCKQb0nWaTJw9+hBribsM2EongN/JYkh5MQTmqUezxYAXwFLMFJHezeKfhN+vDgEJzXwMry7RkHaoUWbZEdvG3s7iWDYLRWxLWDQy/dA+SCTcAscfx0hnd4BSQOmiAG4ExAPukPRaRvkkKol58WRQ+rML+pKbEwDHgS7zfUA4qZCLKIrl/IE5tvT9rIKpZyY7ywMfCqCpeVXBnrBoOeOZ+OTMnMlXWZgZIVskjBGPFBRPofeqGBxQvTZaC8mHnDkR+PgE8kG79ElxK8TnDlNWjxA40ICao1xmJABjygS85oScHIpRSzTPYRRou3N9AG8NMX4gIcBgtSmbBCGctNusu4L/wP+k5tcc81GAXGCfWIp51y65wvlIrVwipQ4yHawoRpzIxk8GRHb1kAFE8gIE1UudCB1QmIPz4aL7HengZX8nI1L08jR4NDQ8GGxNahcNAfaEIlDEaCWi5z+GA4cWhBllaC+NnSPg8DjqkDN5s1EUKOQ6EosoW4Ja1AYzMcKAtmdUaEvTJ6abBehFu5Ys+C74LPhjAUwhVSXrpruIkNFDyCmQJH0gnc+2Bcpw+kA9LrI0PnyQPQj8eFSDuTfBgkwcIxYVCtv+YSUvR4INQYH40LhR8TpADYQ2iyvFRfmtzYQdQgRM6zi2U5hccnN0brm6ACUYTGghcIZc7oM6y9E/QS9jQBSdYbWkLpmLYgLNJ26BytYO3usb0JCf1SfbkkiuxVCpiEvN13vwCW0U4y7Ri2B5odG1wFwCDaw/a4/bpYs2QyC/TxzKhpPUTECvmQ96Gd602wJtjaETrrNBnsaZ0zALNYgHWLDTl63BxgvNY3gbGkBIF765TgdDi+pKPLCkCu5eiJTIzlJS4v0OL8q5DHaBIia1+XNAAWTrk/MR/tHk06WLWX/4JE13XUh4RC719GnqG8K7LrwRaRwajXEXnJBeiT80pmnrByjICZZ2vazeb4pkt/dytMl7P98vC90OLf0PETHGgPnrPjzonA2AhPUWH0FXAdEQZwJeKEYPy5R5sVszKxmAClYkYTLEaE5B1oZ067FwKk1TBgleHwhy+QuRhNMSSsyURzUjQmG16k9YgZIxliuiFnSdpBgrLHba2G4YqwfcOzB5Jb11XY9jjSJzpqGlzsTmKxVJ58FrF2NIGUZGLKCaYksgxJ9on8QFQAacBF1+7wugzt48meU2BU3/IXA/meRxwqCtYK/tEamol367Ds41EY77YuJwJXBuBEQ7WRXi1FZomyKqfHV1rDdI998MfYL7GRnAlCh1+TeXaUBjzIPePi521mlV+ghcjDVkZLVUR0iY22F0i/+wsEXAUIC0bqPY6ByPerk3EWFcFXL0QCiV8wCZqEyvb1ARwTDABsznYyHgNdqiJRCATnVHHXfhBUU4HZ0dgAdUol3+f7PltFU7efj0hJkqOz1Aq1bESOhbxh7RAL/BkJUGpBGrBIIRg2bNFJlAc+eEh2jkSE4IqvkMHmyRb4KAiGPcFxHnNLNWra1Sf8/jzQ1wp/oFqYkbGH8FaFFBIhFBciE42RAixlYREY2q6LJAa6MJURfJ/iUaVEL90fZgvChOtxguQaZhhxYMs8qDJbyrac2/rGTJ3kKP1+1YlhkU7KHwSNDUaqaC9YkX2olOQIk67d9I2ePbLZxFNT84JLWorai0TuV7peujCwTLz3De0dkSQ+ABuE8wtz++IQOpIJnpwoMSpOqFY03mNrIoGyzVUQJ7ibt2Ws1rmrr35eDpOHpd8jdUdbwVAgcd5bFgBqj4IhyIAPXUONKvmLWfU4rIYJKAgXYzVQPFIRwQcvNQKAlMmlmRnkmzJfhDqbLNk45Cf0FSSTLjGH8gp5xJqCrnOxg9fIsGwm2JUtQ5UroYeEDVsQ16nAg4Q0OBrw4Y+s4SRksSRsrGEoaF8E/Wi6exX01fd7zhS6fE8lSqgK0zKmM/ep/Hkx4Ri7uwvyR/rjuBI9TfaYyIDvepE/2rsTdEnmdvQ03X6f8+r3j27r4hMgWjmwClh9L8VT/HINpBy8Yw90CL3QXBL8OBkiwxM2rIbgUMBvlASNPQvy6avEdMdOvCYn2ffcrj0tlokj24k4pXUEEMQXCYz4coUbEkjFChKNMYEbBzkq7g7P98imLIZxk9eA3wZfJFe+FSCJb3hxtIYU6dJD0dWDXsm995IQni5QGmZNRwTRJd4bO+PemSG4Y6d3jX85z+/7635rMDOzdXVTWftBfkgBgVCHGkyhsrWv5cBdPdhLl6Fbyni6GRg633RNBWVt8B5FzohYxUFVyTQaX2A/ZG5hazlBDw07/E/1iqUtItToKXEo0VvQi+W7DpZkW+nbedbtRs6v9aBrwGK0TQZdmZStPETOxbMFRHfNjXQWw8CKAZWXpcQHhUfFDxZp5Fcx5EkUu5FovCsrIjScTMBdumoOL3ovDcWYof7Uvijbb6iNOAALQJVJ19jkSzbWKtI4BMc7tL4R5SfihqaHhSvuIXhFrkemI6IKiETSzhTCV2IXqg8TRw6AVyPZug+H48Tqw++XDdAkjTnmunWMvZXMr4iuJQRpVrwua881DAqQiZ7zQfIZYYwWIudTxr0+lQIM9ANzzvnFZwSQzTsb003/+I4pRyrhtHtlUAqv8Zq66u4Q8tubyvK6zAH5zoc88wHZTTcUqfvJFQpeSbcHy4ShCjBHfPOGXSulStGR2+e5l42gCYr44INk6s8FKn77UStPrcQSvE/B2690atOFe7QZBpnXOrqOb8M7bsz3APugQiq4n66u3V1Juke+l5GLrpSTmaYyJATe1KJBBOzHjXX9R1ko2K74t/Fys1R9CsjsdQZcty5Jz5jThSLR/HVDAR6cqBINw4zibtAKTm3hARiWiLKxCFxmWmTE+9XeEH8RFqaUBVFXyBFxIZtu6sJaXOsYd97CsROLdTsYzuETXxgGEIVslqk7Dz2lUMzjE4HAJmMDryNhjs1K3I52bP1RAN2kYbo4EumygguCH3UNucjr4kiID8asGCeyN/yGMfQ/Z9F9OYyQ6FZOw5YM6KzKCSCIut+lC6G6sQxZtuA5w11B52OOvcK5TDdrSeulIPWaUKYVh6g7MuM2QA4HHdW9OABAGrOs/IUH98i4U3gAAPY3ACC+3OvF5DiiT9Zdgl3tCZmTmYkPXL9O9nuSYMM/HULmNeMWirvuG9+dV2IDJGzAIQSKaw7AOLwUEYVsH+f+PnPS1D13/f3D5FxdZnYwOeSawUTSauXNis2g5l4mFDmtVDbo4gsuEqQO3crKyCUtoEwFhEyRf+kZqwjylPnVORCZcsIvL6qBjQ3GiHT7M+06DItmne2QlryjYMrgjvrKsRWahSO9qovv2YXBYfB+77H72eQDjXgvV5tatabCykzJAzz9ZUEJ9tCjVTk79AL/UFnZ9aC0vwF2sicUYlFXtiJxXZYPHsVNYFJef0LRBL64IboamdlY2VOh4vKuqIVL5DzMLBvQ6vPHVhfGBk33eW/BuOpSFsoOUnSfNrEX5rNPFJBWXpK+F28p9BTo+58av63rFuwTuy6xohyjsSiv4FMW2ggNV9l+g1/iGB5WeojYU9jDCSLpunOIz9ZFXeaGCOJQ2anbe2PoKlqBuGkvXLMeHOUZ0JVoPn2i+S9YvrboEslqV12b6nkjNLpvE/GGuoFADaVZRMoF80wOZ5hciEl3VhCEJdoBgfp7KvcEm1uaqct7Pv+ZvWH354gFOgkEVAB7zChNNnNQFRRzYFidwF/I+03d2JmqG93WWXfQrdsRGkqLg82e4Wed1ZGxOdwL+ULlG/vPG/1iOWyNxgrTpitmRXddVjKmMivZXJcQdAt6y+SPoSf8WM3I81U55OqqnH1SOV1zXijR1EVZznXCyxh+sjbFHoMBnUF/IfKgno80GSNICJQ44nQH8bT5OXVT4nhdIe1xztJCUD4U/neeDjU4coPUFCDgSIUWRTyt4NeOv/utBEzHcy9rTN2NBuSEGqN/vgFghinrJlrhB14Y6+MrIY6xh7Jw1MBCm8VvcO5ef+HV/97kqai4FviezLgwBJhO5AOoYCzWYUXYK8jSexmFFr9VEyB4L+bCgJgeXfrBm/PNrsv5s6P9Vx5nD2QLxvb/+uz+nzuIup3k/hdTS93Zccn0BAAAAYRpQ0NQSUNDIFBST0ZJTEUAAHicfZE9SMNAHMVfW4tFKgrtIOKQoepiQVTEUatQhAqhVmjVweTSL2jSkKS4OAquBQc/FqsOLs66OrgKguAHiKOTk6KLlPi/pNAixoPjfry797h7B/gbFaaaXeOAqllGOpkQsrlVofsVQfQjghBGJWbqc6KYguf4uoePr3dxnuV97s/Rq+RNBvgE4lmmGxbxBvH0pqVz3ieOspKkEJ8Tjxl0QeJHrssuv3EuOuznmVEjk54njhILxQ6WO5iVDJV4ijimqBrl+7MuK5y3OKuVGmvdk78wnNdWlrlOcwhJLGIJIgTIqKGMCizEadVIMZGm/YSHf9Dxi+SSyVUGI8cCqlAhOX7wP/jdrVmYnHCTwgkg+GLbH8NA9y7QrNv297FtN0+AwDNwpbX91QYw80l6va3FjoC+beDiuq3Je8DlDjDwpEuG5EgBmv5CAXg/o2/KAZFboGfN7a21j9MHIENdpW6Ag0NgpEjZ6x7vDnX29u+ZVn8/SIxylg2e/g0AAAAGYktHRAAAAAAAAPlDu38AAAAJcEhZcwAACxMAAAsTAQCanBgAAAAHdElNRQfmBRAUBQNrYSSDAAAbuklEQVR42u2de1xN+f7/X6nYDaaLjGKOmUZ4uCfEbt/Wrk4ZXccwh24cQ4NxGTODHgeRyxFmBuOEpFMZNQ0HyThjUtNuK4UcJEImERXThVI77erz+6PfXt+927uLobJ3n+fj4Q9r7b12n9d6r/f6rM/n834tPUIIKBQKhdKx9KASUCgUCk22FAqFQpMthUKhUNqHQUs7jIyMSmprawdQiQAOh9NYW1tLb0xUC6oF1aI9WjyWyWQWzbfrtTRBpqenR+jkGasFqBZUC6oF1eIltNCjwwgUCkUraWxsxKFDh7T27++SZCuRSLB27VoAwLFjx/Dxxx/D29sbALB06dKXOlZ8fDzKy8vfaJElEgkMDAzw5MkTAMClS5egp6eHgoICREVF4eDBgxq/V1BQAF9f35f6raNHjyI+Pl7lu35+fl3W60hOToZIJIJQKMRHH32EsrIyjZ+bO3cu7t69q7LtZWMBAGpqahAQEAAAYBgG9fX1bX6nI/TRFOONjY2tfu5VUJx3uVwOLpeLPn36qOgZExMDe3t7uLm5obKyEgDw22+/gcvlQiwW4+HDhy0eOzAwsNX9r5PKykq4urqCYRhwuVxkZWWx+w4dOgRjY+NWr42vvvoKJSUlrV5XyuzevRsXL17U3WSrID09HaGhodi8eTN69Gj6U/bs2aNzyRYAbGxscPLkSQDAiRMnMHHixA75ndjYWLi7u6tsmzx5MpKTkzu9zaWlpdi4cSN+/vlnSKVSbNu2DXV1de3+fntioXkC09T+tuhIfRQxfvjwYTbGO/K8GxgYID4+HjNmzGD3yeVy7N+/H1KpFH5+fggLCwMAbNq0CYmJiQgJCcHWrVtbPLavry/279/fKTFz6NAhTJ8+HRKJBOfOncPw4cPZfaampvD09Gw1UT958gQWFhbt/j1/f3/s3btXt5Pt7du38fXXX+Po0aMwMjJit/P5fADA3bt34ezsDJFIhM2bN7O9n+XLl4PP5yM4OBgPHjzAmTNn4OPjgx07drzRydbBwYG9oG/cuIFRo0apfWbjxo1gGAYODg4oKChQuVi8vb2RmpqKa9eugcfjYcqUKTh8+LDK98vLy9HY2Ah9fX21305ISOj0Np8+fRp+fn7o27cvAGDYsGGwtLRU6XEyDKPynZSUFPj4+EAul7cZC0uWLMHUqVNVvn/q1CnY29urJaLly5cDANauXQuhUIilS5di7ty5HapP8xgvKiqCWCwGn8/H4sWL1RKFh4cHbt68icjISDAMg4kTJyIxMREA2n3e9fT0MGCA6rz2nTt3MGbMGBgYGMDJyQmZmZmoqamBkZER+vbti8mTJ+PmzZsAgISEBEyYMAEBAQGs/qNHj0ZmZmanxMxbb72FjIwMlJaWwsDAgI2dZcuW4dtvv4WbmxuePXvW4lOUjY2NyrZHjx5h2rRpKCoqwoULF2Bra4vZs2fD1taWTeBFRUWd8uTXZck2MTERLi4u6Nevn8b9a9asQUREBFJTU3Hjxg32MYZhGKSlpeG///0vBg8ejKlTpyImJgYrV658o5Ntz549weFwkJmZiREjRqjtv379Oh49egSJRILQ0FC2pyGXyzF37lwEBARAJBJh3bp1iImJwblz57Bnzx7I5XL2GHfv3sXgwYPVjv3BBx/g1q1bnd7m4uJiWFpatvvzqampCA8PR1RUFAwNDduMBR6PxyYj5d9Ujqm4uDhkZmZi9+7dKC4uxv/+9z9IpVI2kXSkPs1j3NzcHGfPnkVaWhoqKyuRl5cHAKiqqoKfnx+2bt2KkSNH4m9/+xskEgmSk5PxzTffAMCfOu8Knj59irfffhsAYGxsjIqKClRUVLDbAKChoQEAsG3bNkilUqxfvx6PHz9m97/ME8mr4Ofnh8GDB0MsFsPJyQklJSW4dOkSqqurIZVKMWvWrBZ72Xl5eXj//ffZ/xcVFWHBggUIDw/HwIEDsWnTJiQkJODgwYN48OAB+zkzMzMUFxfrbrJdtGgRzp8/jzNnzrTYK/Dz8wPDMMjNzcWjR4/YuywAld6wtjBt2jQsXLgQ06dPV9uXm5sLiUQChmGwaNEidlxNKpXC0NCQ7QFWVFTg/fffh6GhIaysrNhxYACt3p319PQ6vb2WlpYoKipq9W9R/puDg4MRHByskmhbi4UJEya0+Tds3boVwcHBAID79++z8dO8B9QR+jSP8bKyMsyYMYPtMCi0OXr0KGxsbNinnV9//RUMw8DDwwOFhYWvdN4BwMTEhI2nyspKmJiYwNTUlN0GgB3i0NfXR+/evTFo0CCYm5t3eswYGhoiKCgI169fx6effopdu3bh999/Z3uiEydOVBvbb0mH/fv3Y+bMmRg0aBDb9nfffRe9e/fG0KFDVb7XGddHlyVbAwMDxMXFYe3ataitrVXbP3z4cPz444+QSCS4fPkyJk2apPGiMDQ0ZO/K2pBsJ0yYwLaleXudnZ0hkUggkUjYWVdHR0cMHjyYHb80MTFBQUEB5HI58vPz8c4777DHGDp0KO7fv6927Pz8fJWxr85s7+HDh1FVVcX2wIqLi2FsbIzi4mKUlpaipKSE/XxUVBQWLVqE0tLSdsWCpjFQS0tLlUm46Oho+Pr6QiaT4b333mMfl7OzsztcH+UYv3XrFmJjY+Hl5QWJRAIej8cmh7///e94+PAh4uPj2RvEL7/8gpMnT7Jt/DPnXcGwYcOQk5ODhoYGJCUlYcqUKXjrrbcgk8nw/PlzXLx4ESNHjmTHwGtqalBUVKRyHnr27NkpMXP//n221/7OO++gsbERH3zwAS5fvgwAyMrKwpAhQ1psp/Lw29q1axEfH88Ogbz99tsoKipCTU2NSsIuLy9XG3rpkJzXlcnHzMwMP/zwA/h8Puzs7FT2bdmyBfPmzcOLFy9gaGiIY8eOaTyGi4sLFi9ejJkzZ2LhwoVvdLLt06cPIiIiNO4bN24cLCwswDAM9PT0MHv2bDg7O7NjuYsXL0ZcXBw2btwIb29vNDQ04PPPP1fpBZqZmaFHjx5qN5/k5GS4ubl1env79++PdevWwc3NDYQQmJmZISIiAgEBAXB3dwefz0f//v3Zzw8ePBjff/89fH198Z///OelYwEAXF1dkZGRwbbXxsYGK1euhL+/P3788UfY2NhAIBBg5MiRrHYdqY8ixn19fREWFoa5c+eySVW5Vx0WFoZZs2bB1NQUbm5uEAqFsLOzg4mJCRsD7Tnv+vr6+OSTT5CWloa8vDysWrUKnp6eWLBgAQQCAUxNTREbG8sOz/z1r38Fh8NBdHQ0AGDVqlUQCoWwsbFhE9D169fVrs+O4urVq/jkk09gZGQEQ0NDREZG4t1330V0dDQEAgH69u2L2NhYPH36VOO8yPHjx1VuEDExMZgxYwZ27tyJdevWwd3dHdbW1vjLX/7CPjEMHDiwQycvVbrQmv417aL8/8oOrflbjxw5Qo4fP66yzcfHhzQ0NHQLLZ4/f04WLFjQ4n65XE4IISQuLo7885//fCV93iQtNJ33P4NCn4cPH5Jp06YRQghZvXo1efDggVZo8eWXX5Li4uJW2/b8+XNib29PCCFk9+7dJDMzsyPyhVpOpRVk7YBWx+iOFqtXr0ZGRgb09fVx5MgRlZ41jYumCcV9+/ahuroa33//vdrKDm3WIjU1FUFBQaiqqkJQUBC8vLw68hpRGwRuMdkaGRk10FrnJjgcjsZxZaoF1YJqQbXQoEWjTCbTb3eypT1b2rOlWlAtqBavr2dLe64UCoXSCXR4stVUI56fn8/WNb8uLwRPT0+YmJggKSlJq05AUVERbG1tweFw2Kqqs2fPwsHBAQzDsEteNNW2K6ivr4efnx/4fD5CQkJ0KkALCgowYMAAMAzDrs5Q1s7BwQH29vZad97b4sKFC7C3t4dAIMCKFSsANBUkMAwDhmHYa6A7xYWma0VBcHAwuFwuuFwuW6kZFRWF4cOHg2EYrFq1qusb0NGrEVJSUsiaNWtIWloaEYvFpKamhty7d4/4+Pj8qePNmTOH5OXlqW0vKioi69evJ2fPntWq1QgymYyUl5cTkUhE5HI5qampIR9//DGpr69nP1NXV0f4fD6Ry+UkLi6ObN++XeUYx44dI1u2bCGEEOLq6tribKw2rkZoLVaWLl1K0tPTSVVVFRGJRDq1SqW4uJjIZDJCCCHe3t4kOzub8Hg8lc90t7hofq0ok5+fTwghpKKigggEAkIIIZGRkSQ8PLyr4kItp3bKMEJLPgjA6/NCeJmy0DcJDocDU1NT9v8ZGRno0aMHPvzwQ/j5+aG6ulpjbbsyGRkZcHJyAgCIxWJcunRJp3p5KSkpEAgE2Llzp8r27Oxs1uGqb9++bPGELmBhYQEOhwOgqThCX18fubm5EAgECAwMBCGk28VF82tFGSsrKwBAr169VAqfdu3aBaFQ2CVGTF0yZtuWDwKge14If5bHjx+juLgYv/zyC+zt7REWFqaxtl2ZtvZrM5aWlrhz5w5SUlKQlJSkUvnV0NDAXli61m7lG0ppaSlGjhyJvLw8SKVSVFRU4NSpU906Llpiw4YN+OyzzwAAXl5eyM7OxrFjx/D11193eaVppyTbtnwQFL1fXfNC+DMYGxuDz+dDX18fDg4OyM3N1Vjbrkxb+7WZXr16oXfv3jAwMICbmxtycnLYfcruZrrWbqCpjHTJkiVs1aGZmRn09PTg5eWFnJycbh0Xmjhx4gTKyspYb2wTExP06NED/fv3x7Bhw1SMdXQ22TavEdeELnoh/BkmTZqE3NxcAE2li1ZWVhpr25VRnhRISUnR6L2grSgPDaSnp6vUxY8dOxYZGRmorq5GZWWliouVtlNfXw9fX1/s2LEDFhYWqK6uZuNeoUN3jgtNTwChoaEIDQ1VuQEDgEwmQ15e3isVsLwWOmuCjBBCbt68SSZMmEAuX77MTnooBv3z8vLI1KlTiVgsJs7OzqSqqkplMkwxAXL06FHi4OBA9u3bpzZZYmVlRcaPH0/CwsK0ZvC/rq6OODo6EhMTE+Lg4EAyMzPJd999RwQCAXFxcSFlZWWEEEIOHTpEuFwumTZtGnn69CkhhJDly5eT+vp6UldXR7y9vQmPx2MnRHRlguz06dPE1taWcLlcsnLlSkIIIUuWLCGEEFJYWEjEYjGZMmUK+fXXX3Vqgiw2NpaYm5sTkUhERCIROX/+PBk/fjzh8/nE39+fnUDtTnGh6VpRxIKzszMZPXo0EYlExMPDgxBCyIYNG8iUKVOInZ0d+emnn7p8gowWNbQDumCbakG1oFq8pBa0qIFCoVC6ghYtFjkcTqOenh5Nxk1adIn5NtWCakG10EotGjX2eOkwAn1EolpQLagWdBiBQqFQdAKd8EaoqqqCo6MjhEIh3NzctKqSqKamBq6urmAYBp6ennjx4gWWLl0KhmEwb948drlPd/VGqK+vx6xZsyAWi9Xq23XZGwEAvvvuO7bCsrv7IrSki4J///vfsLKyYvMK8OZ5I3RazzY9PR2hoaE4fPiwyisoFO/WepVka2hoiMOHD0MqlcLT0xNRUVFaEzhnzpzB5MmTIZFIYGdnh5CQENTV1UEikWDUqFH4+eefIZfLsX//fkilUvj5+SEsLEzlGAkJCRgxYgTS0tKQlpam8l4vbefEiRMYN24cUlJSIJPJcO3aNXZfSEgINm/ejMTERLbEW1d48eKFSlvHjBnDvp/OzMys28ZEc10UeHh44OzZs2rbV65cCYlEgu3bt3ePZNvR3ggcDof1RlDUkWsLQ4YMwYsXLwCAfa/S2LFjATS9PysjI6NbeyPk5+er6aFAl70RDh48iDlz5rD/7+6+CC3posDc3BwGBurz/dQbQQOvwxvh+fPnOHDgAFuupw0MHToUFy5cwKhRo5CVlQV3d3ekpqYCAH777TdUVFR06xr44cOHs3qkpKSotE1XvRHkcjlSU1Ph4ODAbqO+CJp1aQ3qjdBK7/dVvBEIIZg3bx62bNmiVTXg0dHRcHFxwY0bN+Dq6oqcnByMHj0aYrEYlZWVGDBgQLeugXd3d4dMJoOjoyN69eql8sppXfVG+OGHH9Q6DNQXQbMurUG9ETrIGyEoKAg8Hq/dd703BcUrvhWPQs+ePUNQUBBSUlLQr18/uLq6dusaeH19fezZswfJycnQ19dXMRDXVW+E27dvY9++fZg6dSpu3LiB3bt3U18EDbq0Nd9DvRE6wBvh0aNHxNDQkK0j37t3r9bUfVdUVBBnZ2ciEomIk5MTKSsrIyKRiDg4OKjUs3dXb4SHDx8SkUhExGIxiYyM7DbeCAp4PB65cuXKG+2L0BVxocgbilg4deoU4fF4xMLCgkyfPp16I2grdME21YJqQbV4SS1oUQOFQqF0BdQboR3Qum+qBdWCavESWlBvBPqIRLWgWlAt6DAChUKh6DA64Y0AAEKhECKRCI6Ojnjy5InWnYgLFy7A3t4eAoEAK1aswL179yAQCCAUCuHt7a223K2qqgru7u7g8Xg4dOiQzgZoUVERbG1tweFwUF9fr7ZPl70RAKCgoAADBgwAwzDssrcdO3aAz+fDx8cHcrm8W8XFihUrIBAIsHz5cpXtwcHB4HK5Kkve3jRvhE5b+pWWlkbEYjGpqakh9+7dY5d+vSzKy8GavzKDEEKioqLI9u3btW5ZS3FxMZHJZIQQQry9vYlUKiUVFRWEEEL+8Y9/kISEBJXPf/vttyQmJobU19cTgUBAXrx4oTPLnZSRyWSkvLyciEQiIpfL1V6FlJ6eTqqqqtilgbq29Kv5tfLkyRPy4YcfEkIICQkJIUeOHOk2cXH58mWyYMECQgghCxcuJBcvXmT35efns0spBQIBIYSQyMhIEh4e3lVxoZZTdcIbAWgqdgCaFjCPGjVK6+7YFhYW4HA4AJqKQPr168dW/Wjye1DUvuvr62PcuHG4ffu2TvbsOBwOTE1NNe7TZW8EZVJSUiAQCLBz505cvHgRDMMAQKueCLoYF8p+D83bbmVlBaDpbczKE3XUG0EDr+qN8ODBA3C5XPzrX//CmDFjtDagsrOzUVpaipEjR7KPyklJSSqVU4Bu+yG0F131RlDG0tISd+7cQUpKCpKSkpCVldVtfTLa07YNGzbgs88+A0C9EVrt/b6KN8LgwYORkZGB4OBgfPPNN1oZTOXl5ViyZAkiIiIANNnJzZkzB+Hh4WqORrrsh9BedNUbQZlevXqhd+/eMDAwgJubG6ytrbutT0ZbbTtx4gTKyspY/wTqjdAB3ghyuZxddvL222+3mZjfROrr6+Hr64sdO3bAwsICABAQEIDFixezvVxlFBMBDQ0NuHr1KoYPH97tkq2ueiMoozw0kp6eDmtra9YFrTVPBF2MC+XJr+Ztz87ORmhoKEJDQ1VuwAD1Rnit3gj3798nQqGQMAxDXFxcSHFxsdYN/sfGxhJzc3PW3+H8+fOkT58+7P+PHz+uUgv+7Nkz4urqSrhcLusZoIsTZHV1dcTR0ZGYmJgQBwcHkpmZ2a28EU6fPk1sbW0Jl8slK1euZCfGeDwemT17NjsB1l3iYtmyZYTP55PPP/9cpd3Ozs5k9OjRRCQSEQ8PD+qNoK3QBdtUC6oF1eIltaBFDRQKhdIVUG+EdkDrvqkWVAuqxUtoQb0R6CMS1YJqQbWgwwgUCoWiw3R4si0oKFB5l/vr5mW9Fd4ENNX7N693LykpAcMwYBgGI0aMwBdffAGg6Z1cAoEAjo6ObOGHMi3VjuuCRsbGxqwmzf0xdM0T4MyZM2xbLS0tER8fr7H9MTExsLe3h5ubG7vUSUF9fT38/PzA5/MREhKi9Zpo8olQUFtbi08//RQODg5sTuh23giK2m7Fqzy0EbzmZS3N6/3bqndftmwZOXv2rEoNeGJiIvnyyy/bXTuubUt8NHkiKJYJaqIrPAE6Sws7OztSVVWl1v66ujrC5/OJXC4ncXFxap4gx44dY1+J4+rq+tqXRHa1T4Qy27ZtI0lJSSrbuqU3wh9//AEfHx/IZDIAwNatWyESiTB58mRcuXIFQNOCbR6PB7FYjJ9++gkHDhwAwzAQCoWwtrYGAIwbNw7+/v4YN24crl69CuD/vBUuXLgAhmHA4/EQGRn5Rt+hm9f7t1XvLpVK2f2KGvDW/BJaOo42ockTITc3FwKBAIGBgWrjg7rqCZCfn48BAwagT58+au2/c+cOxowZAwMDg1Z9EgBALBbj0qVLWq+Hsk+EMhKJBAkJCWAYBgkJCez2buWNUFJSgsLCQuzatYut7Fq+fDlSU1MRExPDltYGBgbi5MmTSElJwcyZMxEQEACJRAIej4fg4GD2WAcOHMDevXsRHR2t8jtBQUFISEhAWloaYmJiUFdXpzUB1FrNd1ZWFsaOHatSrtvQ0IAtW7awNeDtOY4ukJeXB6lUioqKCpw6dapbtP348eP46KOPNLa/rTbrmibNfSKys7PZfb///jtcXV1x+vRpbNq0CfX19d3PGyEqKgq2trZsCSrQ9P53oVCI+fPno6ioiN1ubm7e9Ef16MEGmkwmg4+PDwDA2toaHA4HgwYNwtOnT1V+59q1a/Dw8IBYLEZJSQn++OMPrQmi1mq+T5w4genTp6t8/quvvoK/vz+GDBnS7uPoAmZmZtDT04OXlxdycnK6RdtPnToFDw8Pje1vq826pklznwjlGDA2NoZIJELv3r1hbW2Nx48fdz9vhMDAQLVte/fuhUQiQXh4OPs4qKenh7KyMgBAY2Mjbt26hYiICBVTGeV1fM0fI8ePH4/Tp09DIpHgypUrGDRokNYE0aRJk1qsd09MTFSZDIiIiICenh78/f3VjtNa7bi2U11dzfZM0tPT1W40uugJUFJSgp49e6Jfv34a2z9s2DDk5OSgoaGhVZ8ExeO3wm9EW2nuE6EcA/b29sjOzkZDQwMKCgrQv3//N84boVPGbJOTk+Hk5AQnJyfExcXBzs4OQqFQZWx169atcHd3h1gsxtGjR7Fjxw4UFhbCyckJs2bNavM3goOD2Z5tez7flcjlcjg5OeHatWtwcXHBvXv3IBQKwefzcfXqVXh5eQFockJ77733VIx1Fi9ejKysLDAMg/Xr1wMAQkJC8OjRI3b2XiAQoEePHrCzs9PaC6u5Rjk5OZg0aRIEAgEKCwsxY8YMAP+3GmX+/PmIiYmBQCDAvHnz0KtXL61PtidPnoSnpyc7hNC8/YaGhliwYAEEAgGio6PZYaUvvvgCDQ0NcHd3R05ODvh8PrhcLiwtLbVaj3PnzmHChAmwt7fHwIEDMXnyZPb8r169GmvWrAGPx8P8+fPRs2dP7Ny5E1wuFwzDIDAwkPW87iq6tKjh1q1bqKysfOOTAl2wTbWgWlAtXlKLN6uoobCwEAcPHkR1dTU9QxQKRbeTcEt3IyMjo5La2toBVKKmWufa2lpabUe1oFpQLdqjxWOZTGbR7mRLoVAolNcHvRNRKBQKTbYUCoVCky2FQqFQaLKlUCgUmmwpFAqlW/H/AHPssrubasLYAAAAAElFTkSuQmCC\" />"
   ]
  },
  {
   "cell_type": "code",
   "execution_count": 16,
   "id": "1a32d997",
   "metadata": {
    "pycharm": {
     "name": "#%%\n"
    }
   },
   "outputs": [
    {
     "data": {
      "text/plain": "          Mleko (l)  Cukier (kg)  Kakao (100g)  Sól (kg)\nKlient 1      160.0          5.0         250.0      1.25\nKlient 2      890.0          9.0         450.0      4.15\nKlient 3       22.0          1.0          50.0      0.25\nLącznie      1072.0         15.0         750.0      5.65",
      "text/html": "<div>\n<style scoped>\n    .dataframe tbody tr th:only-of-type {\n        vertical-align: middle;\n    }\n\n    .dataframe tbody tr th {\n        vertical-align: top;\n    }\n\n    .dataframe thead th {\n        text-align: right;\n    }\n</style>\n<table border=\"1\" class=\"dataframe\">\n  <thead>\n    <tr style=\"text-align: right;\">\n      <th></th>\n      <th>Mleko (l)</th>\n      <th>Cukier (kg)</th>\n      <th>Kakao (100g)</th>\n      <th>Sól (kg)</th>\n    </tr>\n  </thead>\n  <tbody>\n    <tr>\n      <th>Klient 1</th>\n      <td>160.0</td>\n      <td>5.0</td>\n      <td>250.0</td>\n      <td>1.25</td>\n    </tr>\n    <tr>\n      <th>Klient 2</th>\n      <td>890.0</td>\n      <td>9.0</td>\n      <td>450.0</td>\n      <td>4.15</td>\n    </tr>\n    <tr>\n      <th>Klient 3</th>\n      <td>22.0</td>\n      <td>1.0</td>\n      <td>50.0</td>\n      <td>0.25</td>\n    </tr>\n    <tr>\n      <th>Lącznie</th>\n      <td>1072.0</td>\n      <td>15.0</td>\n      <td>750.0</td>\n      <td>5.65</td>\n    </tr>\n  </tbody>\n</table>\n</div>"
     },
     "execution_count": 16,
     "metadata": {},
     "output_type": "execute_result"
    }
   ],
   "source": [
    "from pandas import concat\n",
    "\n",
    "\n",
    "df = clients @ products\n",
    "df = concat([df, df.sum().to_frame().T], axis=0)\n",
    "df.index = ['Klient 1', 'Klient 2', 'Klient 3', 'Lącznie']\n",
    "df"
   ]
  },
  {
   "cell_type": "markdown",
   "id": "4701aaa6",
   "metadata": {
    "pycharm": {
     "name": "#%% md\n"
    }
   },
   "source": [
    "#### C) Zakładając marżę $30\\%$ (pomijając wszystkie inne czynniki), ile klienci będą musieli zapłacić za zrealizowanie zamówienia?\n",
    "\n",
    "<img src=\"data:image/png;base64,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\" />"
   ]
  },
  {
   "cell_type": "code",
   "execution_count": 23,
   "id": "6beed73a",
   "metadata": {
    "pycharm": {
     "name": "#%%\n"
    }
   },
   "outputs": [
    {
     "data": {
      "text/plain": "          Do zapłaty (PLN)\nKlient 1           3363.75\nKlient 2           8798.79\nKlient 3            627.25",
      "text/html": "<div>\n<style scoped>\n    .dataframe tbody tr th:only-of-type {\n        vertical-align: middle;\n    }\n\n    .dataframe tbody tr th {\n        vertical-align: top;\n    }\n\n    .dataframe thead th {\n        text-align: right;\n    }\n</style>\n<table border=\"1\" class=\"dataframe\">\n  <thead>\n    <tr style=\"text-align: right;\">\n      <th></th>\n      <th>Do zapłaty (PLN)</th>\n    </tr>\n  </thead>\n  <tbody>\n    <tr>\n      <th>Klient 1</th>\n      <td>3363.75</td>\n    </tr>\n    <tr>\n      <th>Klient 2</th>\n      <td>8798.79</td>\n    </tr>\n    <tr>\n      <th>Klient 3</th>\n      <td>627.25</td>\n    </tr>\n  </tbody>\n</table>\n</div>"
     },
     "execution_count": 23,
     "metadata": {},
     "output_type": "execute_result"
    }
   ],
   "source": [
    "price = clients @ cost * 1.3\n",
    "price.columns = ['Do zapłaty (PLN)']\n",
    "price"
   ]
  },
  {
   "cell_type": "markdown",
   "id": "d9de74e4",
   "metadata": {
    "pycharm": {
     "name": "#%% md\n"
    }
   },
   "source": [
    "#### D) Jaki jest łączny koszt składników jakie należy zamówić, aby zrealizować wszystkie zamówienia klientów?\n",
    "\n",
    "<img src=\"data:image/png;base64,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\" />\n"
   ]
  },
  {
   "cell_type": "code",
   "execution_count": 28,
   "id": "abfca953",
   "metadata": {
    "pycharm": {
     "name": "#%%\n"
    }
   },
   "outputs": [
    {
     "data": {
      "text/plain": "   Koszt składników\n0            9838.3",
      "text/html": "<div>\n<style scoped>\n    .dataframe tbody tr th:only-of-type {\n        vertical-align: middle;\n    }\n\n    .dataframe tbody tr th {\n        vertical-align: top;\n    }\n\n    .dataframe thead th {\n        text-align: right;\n    }\n</style>\n<table border=\"1\" class=\"dataframe\">\n  <thead>\n    <tr style=\"text-align: right;\">\n      <th></th>\n      <th>Koszt składników</th>\n    </tr>\n  </thead>\n  <tbody>\n    <tr>\n      <th>0</th>\n      <td>9838.3</td>\n    </tr>\n  </tbody>\n</table>\n</div>"
     },
     "execution_count": 28,
     "metadata": {},
     "output_type": "execute_result"
    }
   ],
   "source": [
    "whole_cost = (clients @ cost).sum().to_frame()\n",
    "whole_cost.columns = ['Koszt składników']\n",
    "whole_cost"
   ]
  },
  {
   "cell_type": "markdown",
   "id": "2cd0200a",
   "metadata": {
    "pycharm": {
     "name": "#%% md\n"
    }
   },
   "source": [
    "### Zadanie 2\n",
    "\n",
    "Napisać skrypt, który przyjmuje dwie macierze $A$ oraz $B$, a następnie wypisuje operacje wykonywane przy mnożeniu obu macierzy.\n",
    "\n",
    "**Przykład:**\n",
    "\n",
    "Wejście:\n",
    "\n",
    "\\begin{equation}\n",
    "A = \\begin{pmatrix}\n",
    "1 & 2 & 1\\\\\n",
    "4 & 4 & 5\\\\\n",
    "6 & 7 & 7\n",
    "\\end{pmatrix}, \n",
    " B = \\begin{pmatrix}\n",
    "-7 & -7 & 6\\\\\n",
    "2 & 1 & -1\\\\\n",
    "4 & 5 & -4\n",
    "\\end{pmatrix}\n",
    "\\end{equation}\n",
    "\n",
    "Wyjście:\n",
    "\n",
    "```\n",
    "C[0, 0] = 1 * (-7) + 2 * 2 + 1 * 4 = 1\n",
    "C[0, 1] = 1 * (-7) + 2 * 1 + 1 * 5 = 0\n",
    "C[0, 2] = 1 * 6 + 2 * (-1) + 1 * (-4) = 0\n",
    "C[1, 0] = 4 * (-7) + 4 * 2 + 5 * 4 = 0\n",
    "C[1, 1] = 4 * (-7) + 4 * 1 + 5 * 5 = 1\n",
    "C[1, 2] = 4 * 6 + 4 * (-1) + 5 * (-4) = 0\n",
    "C[2, 0] = 6 * (-7) + 7 * 2 + 7 * 4 = 0\n",
    "C[2, 1] = 6 * (-7) + 7 * 1 + 7 * 5 = 0\n",
    "C[2, 2] = 6 * 6 + 7 * (-1) + 7 * (-4) = 1\n",
    "\n",
    "[[1 0 0]\n",
    " [0 1 0]\n",
    " [0 0 1]]\n",
    "```\n",
    "\n"
   ]
  },
  {
   "cell_type": "code",
   "execution_count": 30,
   "id": "0f535ad2",
   "metadata": {
    "pycharm": {
     "name": "#%%\n"
    }
   },
   "outputs": [],
   "source": [
    "A = array([[1, 2, 1], [4, 4, 5], [6, 7, 7]])\n",
    "B = array([[-7, -7, 6], [2, 1, -1], [4, 5, -4]])"
   ]
  },
  {
   "cell_type": "code",
   "execution_count": 54,
   "outputs": [
    {
     "name": "stdout",
     "output_type": "stream",
     "text": [
      "C[0, 0] =  1 * (-7) + 2 * 2 + 1 * 4 = 1\n",
      "C[0, 1] =  1 * (-7) + 2 * 1 + 1 * 5 = 0\n",
      "C[0, 2] =  1 * 6 + 2 * (-1) + 1 * (-4) = 0\n",
      "C[1, 0] =  4 * (-7) + 4 * 2 + 5 * 4 = 0\n",
      "C[1, 1] =  4 * (-7) + 4 * 1 + 5 * 5 = 1\n",
      "C[1, 2] =  4 * 6 + 4 * (-1) + 5 * (-4) = 0\n",
      "C[2, 0] =  6 * (-7) + 7 * 2 + 7 * 4 = 0\n",
      "C[2, 1] =  6 * (-7) + 7 * 1 + 7 * 5 = 0\n",
      "C[2, 2] =  6 * 6 + 7 * (-1) + 7 * (-4) = 1\n",
      "\n",
      "[1 0 0]\n",
      "[0 1 0]\n",
      "[0 0 1]\n"
     ]
    }
   ],
   "source": [
    "from numpy import empty\n",
    "\n",
    "\n",
    "def get_brackets(a: float) -> str:\n",
    "    if a < 0:\n",
    "        return f'({a})'\n",
    "\n",
    "    return a\n",
    "\n",
    "result = empty((A.shape[0], B.shape[1])).astype(int)\n",
    "\n",
    "for i in range(A.shape[0]):\n",
    "    for j in range(B.shape[1]):\n",
    "        print(f'C[{i}, {j}] = ', end='')\n",
    "        for l, k in enumerate(range(A.shape[1])):\n",
    "            result[i][j] += A[i][k] * B[k][j]\n",
    "            if l != A.shape[1] - 1:\n",
    "                print(f' {get_brackets(A[i][k])} * {get_brackets(B[k][j])} ', end='+')\n",
    "            else:\n",
    "                print(f' {get_brackets(A[i][k])} * {get_brackets(B[k][j])} ', end='=')\n",
    "\n",
    "        print(f' {result[i][j]}')\n",
    "\n",
    "print()\n",
    "for row in result:\n",
    "   print(row)"
   ],
   "metadata": {
    "collapsed": false,
    "pycharm": {
     "name": "#%%\n"
    }
   }
  }
 ],
 "metadata": {
  "author": {
   "email": "robert.susik@p.lodz.pl",
   "name": "Robert Susik"
  },
  "kernelspec": {
   "display_name": "Python 3 (ipykernel)",
   "language": "python",
   "name": "python3"
  },
  "language_info": {
   "codemirror_mode": {
    "name": "ipython",
    "version": 3
   },
   "file_extension": ".py",
   "mimetype": "text/x-python",
   "name": "python",
   "nbconvert_exporter": "python",
   "pygments_lexer": "ipython3",
   "version": "3.8.11"
  },
  "toc": {
   "base_numbering": 1,
   "nav_menu": {},
   "number_sections": true,
   "sideBar": true,
   "skip_h1_title": false,
   "title_cell": "Table of Contents",
   "title_sidebar": "Contents",
   "toc_cell": false,
   "toc_position": {},
   "toc_section_display": true,
   "toc_window_display": false
  }
 },
 "nbformat": 4,
 "nbformat_minor": 5
}