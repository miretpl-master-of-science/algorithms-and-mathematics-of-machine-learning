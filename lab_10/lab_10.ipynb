{
 "cells": [
  {
   "cell_type": "markdown",
   "source": [
    "# Algorithms and mathematics of machine learning\n",
    "## Laboratory 10"
   ],
   "metadata": {
    "collapsed": false
   },
   "id": "53a9a2dd07c73c64"
  },
  {
   "cell_type": "markdown",
   "source": [
    "### Entry\n",
    "\n",
    "A company producing dairy products has several orders to fulfill. The data is presented below.\n",
    "\n",
    "### Data\n",
    "\n",
    "**Ingredient prices:**\n",
    "\n",
    "| Ingredient   | Price (PLN) |\n",
    "|:-------------|------------:|\n",
    "| Milk (l)     |         3.5 |\n",
    "| Sugar (kg)   |           5 |\n",
    "| Cocoa (100g) |           8 |\n",
    "| Salt (kg)    |           2 |\n",
    "\n",
    "**The ingredients are listed in the table below:**\n",
    "\n",
    "| Product\\Ingredient | Milk (l) | Sugar (kg) | Cocoa (100g) | Salt (kg) |\n",
    "|:-------------------|---------:|-----------:|-------------:|----------:|\n",
    "| Butter             |        5 |          0 |            0 |         0 |\n",
    "| Chocolate          |        1 |        0.1 |            5 |      0.01 |\n",
    "| Yellow cheese      |       10 |          0 |            0 |      0.05 |\n",
    "| Cottage cheese     |        2 |          0 |            0 |       0.1 |\n",
    "\n",
    "**Customer orders:**\n",
    "\n",
    "| Customer\\Product | Butter | Chocolate | Yellow cheese | Cottage cheese |\n",
    "|:-----------------|-------:|----------:|--------------:|---------------:|\n",
    "| Customer 1       |     10 |        50 |             5 |              5 |\n",
    "| Customer 2       |    120 |        90 |            15 |             25 |\n",
    "| Customer 3       |      0 |        10 |             1 |              1 |\n",
    "\n",
    "> Note: You can use the `plt.table` function to display a table of results.\n",
    "\n",
    "> Information: The above data are examples and do not reflect actual market data."
   ],
   "metadata": {
    "collapsed": false
   },
   "id": "1e70d49c8957f3c9"
  },
  {
   "cell_type": "markdown",
   "source": [
    "### Task 1\n",
    "\n",
    "Using matrix operations, calculate and answer the questions:"
   ],
   "metadata": {
    "collapsed": false
   },
   "id": "801cba2e08aefe03"
  },
  {
   "cell_type": "markdown",
   "id": "459c8073",
   "metadata": {
    "pycharm": {
     "name": "#%% md\n"
    }
   },
   "source": [
    "#### A) What is the cost of producing each product?\n",
    "\n",
    "| Product        | Price (PLN) |\n",
    "|:---------------|------------:|\n",
    "| Butter         |        17.5 |\n",
    "| Chocolate      |       44.02 |\n",
    "| Yellow cheese  |        35.1 |\n",
    "| Cottage cheese |         7.2 |"
   ]
  },
  {
   "cell_type": "code",
   "execution_count": 1,
   "id": "6f35a8fb",
   "metadata": {
    "pycharm": {
     "name": "#%%\n"
    },
    "ExecuteTime": {
     "end_time": "2024-01-14T23:06:31.876811200Z",
     "start_time": "2024-01-14T23:06:31.152734500Z"
    }
   },
   "outputs": [],
   "source": [
    "from numpy import array\n",
    "from pandas import DataFrame\n",
    "\n",
    "\n",
    "ingredients = DataFrame(\n",
    "    data=array([3.5, 5, 8, 2]),\n",
    "    index=['Milk (l)', 'Sugar (kg)', 'Cocoa (100g)', 'Salt (kg)']\n",
    ")\n",
    "\n",
    "products = DataFrame(\n",
    "    data=array([[5, 0, 0, 0], [1, 0.1, 5, 0.01], [10, 0, 0, 0.05], [2, 0, 0, 0.1]]),\n",
    "    index=['Butter', 'Chocolate', 'Yellow cheese', 'Cottage cheese'],\n",
    "    columns=['Milk (l)', 'Sugar (kg)', 'Cocoa (100g)', 'Salt (kg)']\n",
    ")\n",
    "\n",
    "clients = DataFrame(\n",
    "    data=array([[10, 50, 5, 5], [120, 90, 15, 25], [0, 10, 1, 1]]),\n",
    "    index=['Customer 1', 'Customer 2', 'Customer 3'],\n",
    "    columns=['Butter', 'Chocolate', 'Yellow cheese', 'Cottage cheese']\n",
    ")"
   ]
  },
  {
   "cell_type": "code",
   "execution_count": 2,
   "outputs": [
    {
     "data": {
      "text/plain": "                    0\nButter          17.50\nChocolate       44.02\nYellow cheese   35.10\nCottage cheese   7.20",
      "text/html": "<div>\n<style scoped>\n    .dataframe tbody tr th:only-of-type {\n        vertical-align: middle;\n    }\n\n    .dataframe tbody tr th {\n        vertical-align: top;\n    }\n\n    .dataframe thead th {\n        text-align: right;\n    }\n</style>\n<table border=\"1\" class=\"dataframe\">\n  <thead>\n    <tr style=\"text-align: right;\">\n      <th></th>\n      <th>0</th>\n    </tr>\n  </thead>\n  <tbody>\n    <tr>\n      <th>Butter</th>\n      <td>17.50</td>\n    </tr>\n    <tr>\n      <th>Chocolate</th>\n      <td>44.02</td>\n    </tr>\n    <tr>\n      <th>Yellow cheese</th>\n      <td>35.10</td>\n    </tr>\n    <tr>\n      <th>Cottage cheese</th>\n      <td>7.20</td>\n    </tr>\n  </tbody>\n</table>\n</div>"
     },
     "execution_count": 2,
     "metadata": {},
     "output_type": "execute_result"
    }
   ],
   "source": [
    "cost = products @ ingredients\n",
    "cost"
   ],
   "metadata": {
    "collapsed": false,
    "pycharm": {
     "name": "#%%\n"
    },
    "ExecuteTime": {
     "end_time": "2024-01-14T23:06:31.919239900Z",
     "start_time": "2024-01-14T23:06:31.882959200Z"
    }
   },
   "id": "a9df36dd3edaba23"
  },
  {
   "cell_type": "markdown",
   "id": "74c03b21",
   "metadata": {
    "pycharm": {
     "name": "#%% md\n"
    }
   },
   "source": [
    "#### B) How many ingredients will be used to fulfill customer orders (each separately and in total)?\n",
    "\n",
    "| Customer\\Product | Milk (l) | Sugar (kg) | Cocoa (100g) | Salt (kg) |\n",
    "|:-----------------|---------:|-----------:|-------------:|----------:|\n",
    "| Customer 1       |      160 |          5 |          250 |      1.25 |\n",
    "| Customer 2       |      890 |          9 |          450 |      4.15 |\n",
    "| Customer 3       |       22 |          1 |           50 |      0.25 |\n",
    "| Total            |     1072 |         15 |          750 |      5.65 |"
   ]
  },
  {
   "cell_type": "code",
   "execution_count": 3,
   "id": "1a32d997",
   "metadata": {
    "pycharm": {
     "name": "#%%\n"
    },
    "ExecuteTime": {
     "end_time": "2024-01-14T23:06:32.068780200Z",
     "start_time": "2024-01-14T23:06:31.916747800Z"
    }
   },
   "outputs": [
    {
     "data": {
      "text/plain": "            Milk (l)  Sugar (kg)  Cocoa (100g)  Salt (kg)\nCustomer 1     160.0         5.0         250.0       1.25\nCustomer 2     890.0         9.0         450.0       4.15\nCustomer 3      22.0         1.0          50.0       0.25\nTotal         1072.0        15.0         750.0       5.65",
      "text/html": "<div>\n<style scoped>\n    .dataframe tbody tr th:only-of-type {\n        vertical-align: middle;\n    }\n\n    .dataframe tbody tr th {\n        vertical-align: top;\n    }\n\n    .dataframe thead th {\n        text-align: right;\n    }\n</style>\n<table border=\"1\" class=\"dataframe\">\n  <thead>\n    <tr style=\"text-align: right;\">\n      <th></th>\n      <th>Milk (l)</th>\n      <th>Sugar (kg)</th>\n      <th>Cocoa (100g)</th>\n      <th>Salt (kg)</th>\n    </tr>\n  </thead>\n  <tbody>\n    <tr>\n      <th>Customer 1</th>\n      <td>160.0</td>\n      <td>5.0</td>\n      <td>250.0</td>\n      <td>1.25</td>\n    </tr>\n    <tr>\n      <th>Customer 2</th>\n      <td>890.0</td>\n      <td>9.0</td>\n      <td>450.0</td>\n      <td>4.15</td>\n    </tr>\n    <tr>\n      <th>Customer 3</th>\n      <td>22.0</td>\n      <td>1.0</td>\n      <td>50.0</td>\n      <td>0.25</td>\n    </tr>\n    <tr>\n      <th>Total</th>\n      <td>1072.0</td>\n      <td>15.0</td>\n      <td>750.0</td>\n      <td>5.65</td>\n    </tr>\n  </tbody>\n</table>\n</div>"
     },
     "execution_count": 3,
     "metadata": {},
     "output_type": "execute_result"
    }
   ],
   "source": [
    "from pandas import concat\n",
    "\n",
    "\n",
    "df = clients @ products\n",
    "df = concat([df, df.sum().to_frame().T], axis=0)\n",
    "df.index = ['Customer 1', 'Customer 2', 'Customer 3', 'Total']\n",
    "df"
   ]
  },
  {
   "cell_type": "markdown",
   "id": "4701aaa6",
   "metadata": {
    "pycharm": {
     "name": "#%% md\n"
    }
   },
   "source": [
    "#### C) Assuming a margin of $30\\%$ (ignoring all other factors), how much will customers have to pay to fulfill their order?\n",
    "\n",
    "| Customer   | To pay (PLN) |\n",
    "|:-----------|-------------:|\n",
    "| Customer 1 |      3363.75 |\n",
    "| Customer 2 |      8798.79 |\n",
    "| Customer 3 |       627.25 |"
   ]
  },
  {
   "cell_type": "code",
   "execution_count": 4,
   "id": "6beed73a",
   "metadata": {
    "pycharm": {
     "name": "#%%\n"
    },
    "ExecuteTime": {
     "end_time": "2024-01-14T23:06:32.127243200Z",
     "start_time": "2024-01-14T23:06:31.959646800Z"
    }
   },
   "outputs": [
    {
     "data": {
      "text/plain": "            To pay (PLN)\nCustomer 1       3363.75\nCustomer 2       8798.79\nCustomer 3        627.25",
      "text/html": "<div>\n<style scoped>\n    .dataframe tbody tr th:only-of-type {\n        vertical-align: middle;\n    }\n\n    .dataframe tbody tr th {\n        vertical-align: top;\n    }\n\n    .dataframe thead th {\n        text-align: right;\n    }\n</style>\n<table border=\"1\" class=\"dataframe\">\n  <thead>\n    <tr style=\"text-align: right;\">\n      <th></th>\n      <th>To pay (PLN)</th>\n    </tr>\n  </thead>\n  <tbody>\n    <tr>\n      <th>Customer 1</th>\n      <td>3363.75</td>\n    </tr>\n    <tr>\n      <th>Customer 2</th>\n      <td>8798.79</td>\n    </tr>\n    <tr>\n      <th>Customer 3</th>\n      <td>627.25</td>\n    </tr>\n  </tbody>\n</table>\n</div>"
     },
     "execution_count": 4,
     "metadata": {},
     "output_type": "execute_result"
    }
   ],
   "source": [
    "price = clients @ cost * 1.3\n",
    "price.columns = ['To pay (PLN)']\n",
    "price"
   ]
  },
  {
   "cell_type": "markdown",
   "id": "d9de74e4",
   "metadata": {
    "pycharm": {
     "name": "#%% md\n"
    }
   },
   "source": [
    "#### D) What is the total cost of ingredients that must be ordered to fulfill all customer orders?\n",
    "\n",
    "| Cost of ingredients |\n",
    "|:--------------------|\n",
    "| 9839.3              |"
   ]
  },
  {
   "cell_type": "code",
   "execution_count": 5,
   "id": "abfca953",
   "metadata": {
    "pycharm": {
     "name": "#%%\n"
    },
    "ExecuteTime": {
     "end_time": "2024-01-14T23:06:32.142293100Z",
     "start_time": "2024-01-14T23:06:31.994707600Z"
    }
   },
   "outputs": [
    {
     "data": {
      "text/plain": "   Cost of ingredients\n0               9838.3",
      "text/html": "<div>\n<style scoped>\n    .dataframe tbody tr th:only-of-type {\n        vertical-align: middle;\n    }\n\n    .dataframe tbody tr th {\n        vertical-align: top;\n    }\n\n    .dataframe thead th {\n        text-align: right;\n    }\n</style>\n<table border=\"1\" class=\"dataframe\">\n  <thead>\n    <tr style=\"text-align: right;\">\n      <th></th>\n      <th>Cost of ingredients</th>\n    </tr>\n  </thead>\n  <tbody>\n    <tr>\n      <th>0</th>\n      <td>9838.3</td>\n    </tr>\n  </tbody>\n</table>\n</div>"
     },
     "execution_count": 5,
     "metadata": {},
     "output_type": "execute_result"
    }
   ],
   "source": [
    "whole_cost = (clients @ cost).sum().to_frame()\n",
    "whole_cost.columns = ['Cost of ingredients']\n",
    "whole_cost"
   ]
  },
  {
   "cell_type": "markdown",
   "id": "2cd0200a",
   "metadata": {
    "pycharm": {
     "name": "#%% md\n"
    }
   },
   "source": [
    "### Task 2\n",
    "\n",
    "Write a script that takes two matrices $A$ and $B$ and then prints the operations performed when multiplying both matrices.\n",
    "\n",
    "**Example:**\n",
    "\n",
    "Input:\n",
    "\\begin{equation}\n",
    "A = \\begin{pmatrix}\n",
    "1 & 2 & 1\\\\\n",
    "4 & 4 & 5\\\\\n",
    "6 & 7 & 7\n",
    "\\end{pmatrix}, \n",
    " B = \\begin{pmatrix}\n",
    "-7 & -7 & 6\\\\\n",
    "2 & 1 & -1\\\\\n",
    "4 & 5 & -4\n",
    "\\end{pmatrix}\n",
    "\\end{equation}\n",
    "\n",
    "Output:\n",
    "```\n",
    "C[0, 0] = 1 * (-7) + 2 * 2 + 1 * 4 = 1\n",
    "C[0, 1] = 1 * (-7) + 2 * 1 + 1 * 5 = 0\n",
    "C[0, 2] = 1 * 6 + 2 * (-1) + 1 * (-4) = 0\n",
    "C[1, 0] = 4 * (-7) + 4 * 2 + 5 * 4 = 0\n",
    "C[1, 1] = 4 * (-7) + 4 * 1 + 5 * 5 = 1\n",
    "C[1, 2] = 4 * 6 + 4 * (-1) + 5 * (-4) = 0\n",
    "C[2, 0] = 6 * (-7) + 7 * 2 + 7 * 4 = 0\n",
    "C[2, 1] = 6 * (-7) + 7 * 1 + 7 * 5 = 0\n",
    "C[2, 2] = 6 * 6 + 7 * (-1) + 7 * (-4) = 1\n",
    "\n",
    "[[1 0 0]\n",
    " [0 1 0]\n",
    " [0 0 1]]\n",
    "```"
   ]
  },
  {
   "cell_type": "code",
   "execution_count": 6,
   "id": "0f535ad2",
   "metadata": {
    "pycharm": {
     "name": "#%%\n"
    },
    "ExecuteTime": {
     "end_time": "2024-01-14T23:06:32.225417100Z",
     "start_time": "2024-01-14T23:06:32.026247300Z"
    }
   },
   "outputs": [],
   "source": [
    "A = array([[1, 2, 1], [4, 4, 5], [6, 7, 7]])\n",
    "B = array([[-7, -7, 6], [2, 1, -1], [4, 5, -4]])"
   ]
  },
  {
   "cell_type": "code",
   "execution_count": 7,
   "outputs": [
    {
     "name": "stdout",
     "output_type": "stream",
     "text": [
      "C[0, 0] =  1 * (-7) + 2 * 2 + 1 * 4 = 1\n",
      "C[0, 1] =  1 * (-7) + 2 * 1 + 1 * 5 = 0\n",
      "C[0, 2] =  1 * 6 + 2 * (-1) + 1 * (-4) = 0\n",
      "C[1, 0] =  4 * (-7) + 4 * 2 + 5 * 4 = 0\n",
      "C[1, 1] =  4 * (-7) + 4 * 1 + 5 * 5 = 1\n",
      "C[1, 2] =  4 * 6 + 4 * (-1) + 5 * (-4) = 0\n",
      "C[2, 0] =  6 * (-7) + 7 * 2 + 7 * 4 = 0\n",
      "C[2, 1] =  6 * (-7) + 7 * 1 + 7 * 5 = 0\n",
      "C[2, 2] =  6 * 6 + 7 * (-1) + 7 * (-4) = 1\n",
      "\n",
      "[1 0 0]\n",
      "[0 1 0]\n",
      "[0 0 1]\n"
     ]
    }
   ],
   "source": [
    "from numpy import empty\n",
    "\n",
    "\n",
    "def get_brackets(a: float) -> str:\n",
    "    return f'({a})' if a < 0 else a\n",
    "\n",
    "\n",
    "result = empty((A.shape[0], B.shape[1])).astype(int)\n",
    "\n",
    "for i in range(A.shape[0]):\n",
    "    for j in range(B.shape[1]):\n",
    "        print(f'C[{i}, {j}] = ', end='')\n",
    "        for l, k in enumerate(range(A.shape[1])):\n",
    "            result[i][j] += A[i][k] * B[k][j]\n",
    "            if l != A.shape[1] - 1:\n",
    "                print(f' {get_brackets(A[i][k])} * {get_brackets(B[k][j])} ', end='+')\n",
    "            else:\n",
    "                print(f' {get_brackets(A[i][k])} * {get_brackets(B[k][j])} ', end='=')\n",
    "\n",
    "        print(f' {result[i][j]}')\n",
    "\n",
    "print()\n",
    "for row in result:\n",
    "   print(row)"
   ],
   "metadata": {
    "collapsed": false,
    "pycharm": {
     "name": "#%%\n"
    },
    "ExecuteTime": {
     "end_time": "2024-01-14T23:06:32.296870400Z",
     "start_time": "2024-01-14T23:06:32.070030700Z"
    }
   },
   "id": "2f9d78c0abb1af8b"
  }
 ],
 "metadata": {
  "author": {
   "email": "robert.susik@p.lodz.pl",
   "name": "Robert Susik"
  },
  "kernelspec": {
   "display_name": "Python 3 (ipykernel)",
   "language": "python",
   "name": "python3"
  },
  "language_info": {
   "codemirror_mode": {
    "name": "ipython",
    "version": 3
   },
   "file_extension": ".py",
   "mimetype": "text/x-python",
   "name": "python",
   "nbconvert_exporter": "python",
   "pygments_lexer": "ipython3",
   "version": "3.8.11"
  },
  "toc": {
   "base_numbering": 1,
   "nav_menu": {},
   "number_sections": true,
   "sideBar": true,
   "skip_h1_title": false,
   "title_cell": "Table of Contents",
   "title_sidebar": "Contents",
   "toc_cell": false,
   "toc_position": {},
   "toc_section_display": true,
   "toc_window_display": false
  }
 },
 "nbformat": 4,
 "nbformat_minor": 5
}
