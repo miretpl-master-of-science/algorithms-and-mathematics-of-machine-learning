{
 "cells": [
  {
   "cell_type": "markdown",
   "id": "9ed56307",
   "metadata": {},
   "source": [
    "# Algorytmika i matematyka uczenia maszynowego \n",
    "## Laboratorium 2\n",
    "\n",
    "Do wykonania zadań proszę zapoznać się z metodami, właściwościami, oraz funkcjami:\n",
    "`__repr__`, `__str__`, `__add__`, `__sub__`, `__eq__`, `__lt__`, `__gt__`, `__le__`, `__ge__`, `__ne__`, `__hash__`, `__truediv__`, `__mul__`, `__class__`, `__name__`, `id`.\n",
    "\n",
    "Operatory: https://docs.python.org/3/library/operator.html\n",
    "\n",
    "\n",
    "**UWAGA**: W ninejszym laboratorium proszę nie korzystać z zewnętrzych modułów/bibliotek (poza biblioteką _matplotlib_).\n",
    "\n",
    "**UWAGA 2**: Obsługę błędów należy zrealizować w postaci wyjątków.\n",
    "\n",
    "### Zadanie 1\n",
    "\n",
    "Napisz klasę `Vector` udostępniającą funkcjonalność:\n",
    "- reprezentuje wektor dowolnej długości,\n",
    "- obiekt inicjowany listą (np. `Vector([1, 2, 3])`,\n",
    "- posiada funkcję zwracającą moduł wektora,\n",
    "- umożliwia dodawanie (`+`) i odejmowanie (`-`) wektorów. Dodaj obsługę błędów (różna długość (liczba elementów) wektora),\n",
    "- możliwość wyświetlenia wektora jako listy za pomocą funkcji `print(v)` (metoda `__str__`),\n",
    "- uruchomienie komórki zawierającej jedynie nazwę zmiennej (typu `Vector`) spowoduje wyświetlenie nazwy typu `Vector`, adresu zmiennej w pamięci (funkcja `id`) oraz jej zawartości, np. `<Vector([1, 2, 3]) at 140185630442880>` (metoda `__repr__`)"
   ]
  },
  {
   "cell_type": "code",
   "execution_count": 1,
   "id": "ac82ae76",
   "metadata": {},
   "outputs": [
    {
     "name": "stdout",
     "output_type": "stream",
     "text": [
      "Wektor = [1, 2], moduł wektora: 2.23606797749979, dodawanie [2, 4], odejmowanie [0, 0]\n"
     ]
    }
   ],
   "source": [
    "from typing import List\n",
    "from math import sqrt\n",
    "from matplotlib.pyplot import arrow, show\n",
    "\n",
    "\n",
    "class Vector:\n",
    "    __data: List = None\n",
    "    \n",
    "    def __init__(self, data: List):\n",
    "        self.__data = data\n",
    "    \n",
    "    def __len__(self):\n",
    "        return len(self.__data)\n",
    "    \n",
    "    def __add__(self, data):\n",
    "        self.__validate_length_of_vectors(data)\n",
    "        \n",
    "        for i in range(len(self.__data)):\n",
    "            self.__data[i] += data.to_list()[i]\n",
    "        \n",
    "        return self\n",
    "    \n",
    "    def __sub__(self, data):\n",
    "        self.__validate_length_of_vectors(data)\n",
    "    \n",
    "        for i in range(len(self.__data)):\n",
    "            self.__data[i] -= data.to_list()[i]\n",
    "        \n",
    "        return self\n",
    "    \n",
    "    def __str__(self):\n",
    "        return f'{self.__data}'\n",
    "\n",
    "    def __repr__(self):\n",
    "        return f'<{self.__class__.__name__}({self.__data}) at {hex(id(self))}>'\n",
    "    \n",
    "    def __validate_length_of_vectors(self, data):\n",
    "        if len(self.__data) != len(data.to_list()):\n",
    "            raise ValueError('Vectors should be of the same size')\n",
    "    \n",
    "    def __validate_length_of_vector_for_plot(self):\n",
    "        if len(self.__data) != 2:\n",
    "            raise ValueError('Vector should be 2 dimentional (size of 2)')\n",
    "    \n",
    "    def __eq__(self, data):\n",
    "        self.__validate_length_of_vectors(data)\n",
    "        return Vector([value1 == value2 for value1, value2 in zip(self.__data, data.to_list())])\n",
    "\n",
    "    def __lt__(self, data):\n",
    "        self.__validate_length_of_vectors(data)\n",
    "        return Vector([value1 < value2 for value1, value2 in zip(self.__data, data.to_list())])\n",
    "        \n",
    "    def __gt__(self, data):\n",
    "        self.__validate_length_of_vectors(data)\n",
    "        return Vector([value1 > value2 for value1, value2 in zip(self.__data, data.to_list())])\n",
    "    \n",
    "    def __le__(self, data):\n",
    "        self.__validate_length_of_vectors(data)\n",
    "        return Vector([value1 <= value2 for value1, value2 in zip(self.__data, data.to_list())])\n",
    "        \n",
    "    def __ge__(self, data):\n",
    "        self.__validate_length_of_vectors(data)\n",
    "        return Vector([value1 >= value2 for value1, value2 in zip(self.__data, data.to_list())])\n",
    "        \n",
    "    def __ne__(self, data):\n",
    "        self.__validate_length_of_vectors(data)\n",
    "        return Vector([value1 != value2 for value1, value2 in zip(self.__data, data.to_list())])\n",
    "    \n",
    "    def __hash__(self):\n",
    "        return hash(tuple(self.__data))\n",
    "    \n",
    "    def __validate_if_value_is_scalar(self, value):\n",
    "        if not isinstance(value, (int, float)):\n",
    "            raise ValueError('Given value is not a scalar')\n",
    "    \n",
    "    def __truediv__(self, value):\n",
    "        self.__validate_if_value_is_scalar(value)\n",
    "        \n",
    "        if value == 0:\n",
    "            raise ArithmeticError('Can not divide by 0')\n",
    "        \n",
    "        self.__data = [data / value for data in self.__data]\n",
    "        return self\n",
    "    \n",
    "    def __mul__(self, value):\n",
    "        self.__validate_if_value_is_scalar(value)\n",
    "        self.__data = [data * value for data in self.__data]  \n",
    "        return self \n",
    "    \n",
    "    def calculate_cube_vector(self):\n",
    "        return sqrt(sum([value ** 2 for value in self.__data]))\n",
    "    \n",
    "    def to_list(self) -> List:\n",
    "        return self.__data\n",
    "    \n",
    "    def plot_vector(self):\n",
    "        self.__validate_length_of_vector_for_plot()\n",
    "        arrow(0, 0, self.__data[0], self.__data[1], head_width=0.1, head_length=0.1, fc='k', ec='k')\n",
    "        show()        \n",
    "        \n",
    "vec = Vector([1, 2])\n",
    "print(f'Wektor = {vec}, moduł wektora: {vec.calculate_cube_vector()}, dodawanie {vec + vec}, odejmowanie {vec - vec}')"
   ]
  },
  {
   "cell_type": "code",
   "execution_count": 2,
   "id": "52ec5a44",
   "metadata": {},
   "outputs": [
    {
     "data": {
      "text/plain": [
       "<Vector([0, 0]) at 0x2af206a5a90>"
      ]
     },
     "execution_count": 2,
     "metadata": {},
     "output_type": "execute_result"
    }
   ],
   "source": [
    "vec"
   ]
  },
  {
   "cell_type": "markdown",
   "id": "87da7375",
   "metadata": {},
   "source": [
    "### Zadanie 2\n",
    "\n",
    "Do wcześniej zaimplementowanej klasy dopisz funkcje pozwalające na porównanie wektorów (ich modułów) za pomocą operatorów: `==`, `>=`, `<=`, `>`, `<`, `!=`. Porównanie ma zostać wykonane na poziomie elementów wektorów (_element wise_), poniżej przykład:\n",
    "\n",
    "```ipython\n",
    " In [1]: a = Vector([1, 2, 3]) \\\n",
    "    ...: b = Vector([3, 2, 1]) \\\n",
    "    ...: a <= b\n",
    "Out [1]: <Vector([True, True, False]) at 140185575662832>\n",
    "```"
   ]
  },
  {
   "cell_type": "code",
   "execution_count": 3,
   "id": "3b99972a",
   "metadata": {},
   "outputs": [],
   "source": [
    "vec1 = Vector([1, 2, 3])\n",
    "vec2 = Vector([3, 2, 1])"
   ]
  },
  {
   "cell_type": "code",
   "execution_count": 4,
   "id": "30424f1c",
   "metadata": {},
   "outputs": [
    {
     "data": {
      "text/plain": [
       "<Vector([False, True, False]) at 0x2af206f9c40>"
      ]
     },
     "execution_count": 4,
     "metadata": {},
     "output_type": "execute_result"
    }
   ],
   "source": [
    "vec1 == vec2"
   ]
  },
  {
   "cell_type": "code",
   "execution_count": 5,
   "id": "fcd5a9ec",
   "metadata": {},
   "outputs": [
    {
     "data": {
      "text/plain": [
       "<Vector([True, True, False]) at 0x2af206f9f10>"
      ]
     },
     "execution_count": 5,
     "metadata": {},
     "output_type": "execute_result"
    }
   ],
   "source": [
    "vec1 <= vec2"
   ]
  },
  {
   "cell_type": "code",
   "execution_count": 6,
   "id": "2252458e",
   "metadata": {},
   "outputs": [
    {
     "data": {
      "text/plain": [
       "<Vector([False, True, True]) at 0x2af206f95b0>"
      ]
     },
     "execution_count": 6,
     "metadata": {},
     "output_type": "execute_result"
    }
   ],
   "source": [
    "vec1 >= vec2"
   ]
  },
  {
   "cell_type": "code",
   "execution_count": 7,
   "id": "b39b3c59",
   "metadata": {},
   "outputs": [
    {
     "data": {
      "text/plain": [
       "<Vector([True, False, False]) at 0x2af206f93d0>"
      ]
     },
     "execution_count": 7,
     "metadata": {},
     "output_type": "execute_result"
    }
   ],
   "source": [
    "vec1 < vec2"
   ]
  },
  {
   "cell_type": "code",
   "execution_count": 8,
   "id": "0e00d1da",
   "metadata": {},
   "outputs": [
    {
     "data": {
      "text/plain": [
       "<Vector([False, False, True]) at 0x2af206f9070>"
      ]
     },
     "execution_count": 8,
     "metadata": {},
     "output_type": "execute_result"
    }
   ],
   "source": [
    "vec1 > vec2"
   ]
  },
  {
   "cell_type": "code",
   "execution_count": 9,
   "id": "d1343d64",
   "metadata": {},
   "outputs": [
    {
     "data": {
      "text/plain": [
       "<Vector([True, False, True]) at 0x2af206f6550>"
      ]
     },
     "execution_count": 9,
     "metadata": {},
     "output_type": "execute_result"
    }
   ],
   "source": [
    "vec1 != vec2"
   ]
  },
  {
   "cell_type": "markdown",
   "id": "d8e9a446",
   "metadata": {},
   "source": [
    "### Zadanie 3\n",
    "\n",
    "Do klasy `Vector` dopisz funkcję umożliwiającą wyświetlenie wektora na wykresie (zaimplementuj wyświetlanie za pomocą biblioteki `matplotlib`. \n",
    "\n",
    "> **UWAGA**: Funkcja powinna działać tylko dla wektora o dwóch wymiarach (dwuelementowa lista) - wykres 2D i wyświetlać komunikat jeżeli wymiar jest inny.\n",
    "\n",
    "> Podpowiedź: możesz wykorzystać funkcję [matplotlib.pyplot.arrow](https://matplotlib.org/3.5.1/api/_as_gen/matplotlib.pyplot.arrow.html)"
   ]
  },
  {
   "cell_type": "code",
   "execution_count": 10,
   "id": "c9f9de7b",
   "metadata": {},
   "outputs": [
    {
     "data": {
      "image/png": "[encoded data removed]",
      "text/plain": [
       "<Figure size 432x288 with 1 Axes>"
      ]
     },
     "metadata": {
      "needs_background": "light"
     },
     "output_type": "display_data"
    }
   ],
   "source": [
    "vec = Vector([1, 2])\n",
    "vec.plot_vector()"
   ]
  },
  {
   "cell_type": "markdown",
   "id": "ebc3c411",
   "metadata": {},
   "source": [
    "### Zadanie 4\n",
    "\n",
    "Dodaj możliwość zastosowania obiektu klasy `Vector` jako klucza w słowniku. Np.:\n",
    "\n",
    "```python\n",
    "d = {\n",
    "    Vector([1, 2, 3]): 'Wektor 1',\n",
    "    Vector([2, 2, 3]): 'Wektor 2'\n",
    "}\n",
    "d[Vector([2, 2, 3])]\n",
    "```"
   ]
  },
  {
   "cell_type": "code",
   "execution_count": 11,
   "id": "d1db2d39",
   "metadata": {},
   "outputs": [
    {
     "data": {
      "text/plain": [
       "{<Vector([1, 2, 3]) at 0x2af206f9790>: 1}"
      ]
     },
     "execution_count": 11,
     "metadata": {},
     "output_type": "execute_result"
    }
   ],
   "source": [
    "{Vector([1, 2, 3]): 1}"
   ]
  },
  {
   "cell_type": "markdown",
   "id": "8aec816a",
   "metadata": {},
   "source": [
    "### Zadanie 5\n",
    "\n",
    "Dodaj funkcjonalność:\n",
    "- dzielenia przez skalar (np. `Vector([2, 4]) / 2`),\n",
    "- mnożenia przez skalar (np. `Vector([2, 4]) * 2`).\n",
    "\n",
    "> Podpowiedź: Pamiętaj o obsłudze błędów."
   ]
  },
  {
   "cell_type": "code",
   "execution_count": 12,
   "id": "2bb3d9bb",
   "metadata": {},
   "outputs": [
    {
     "name": "stdout",
     "output_type": "stream",
     "text": [
      "[0.5, 1.0, 1.5]\n",
      "[1.0, 2.0, 3.0]\n",
      "[0.47619047619047616, 0.9523809523809523, 1.4285714285714286]\n",
      "[1.0476190476190477, 2.0952380952380953, 3.1428571428571432]\n"
     ]
    }
   ],
   "source": [
    "vec = Vector([1, 2, 3])\n",
    "\n",
    "print(vec / 2)\n",
    "print(vec * 2)\n",
    "print(vec / 2.1)\n",
    "print(vec * 2.2)"
   ]
  },
  {
   "cell_type": "code",
   "execution_count": 13,
   "id": "63feae6b",
   "metadata": {},
   "outputs": [
    {
     "ename": "ArithmeticError",
     "evalue": "Can not divide by 0",
     "output_type": "error",
     "traceback": [
      "\u001b[1;31m---------------------------------------------------------------------------\u001b[0m",
      "\u001b[1;31mArithmeticError\u001b[0m                           Traceback (most recent call last)",
      "Input \u001b[1;32mIn [13]\u001b[0m, in \u001b[0;36m<cell line: 1>\u001b[1;34m()\u001b[0m\n\u001b[1;32m----> 1\u001b[0m \u001b[38;5;28mprint\u001b[39m(\u001b[43mvec\u001b[49m\u001b[43m \u001b[49m\u001b[38;5;241;43m/\u001b[39;49m\u001b[43m \u001b[49m\u001b[38;5;241;43m0\u001b[39;49m)\n",
      "Input \u001b[1;32mIn [1]\u001b[0m, in \u001b[0;36mVector.__truediv__\u001b[1;34m(self, value)\u001b[0m\n\u001b[0;32m     77\u001b[0m \u001b[38;5;28mself\u001b[39m\u001b[38;5;241m.\u001b[39m__validate_if_value_is_scalar(value)\n\u001b[0;32m     79\u001b[0m \u001b[38;5;28;01mif\u001b[39;00m value \u001b[38;5;241m==\u001b[39m \u001b[38;5;241m0\u001b[39m:\n\u001b[1;32m---> 80\u001b[0m     \u001b[38;5;28;01mraise\u001b[39;00m \u001b[38;5;167;01mArithmeticError\u001b[39;00m(\u001b[38;5;124m'\u001b[39m\u001b[38;5;124mCan not divide by 0\u001b[39m\u001b[38;5;124m'\u001b[39m)\n\u001b[0;32m     82\u001b[0m \u001b[38;5;28mself\u001b[39m\u001b[38;5;241m.\u001b[39m__data \u001b[38;5;241m=\u001b[39m [data \u001b[38;5;241m/\u001b[39m value \u001b[38;5;28;01mfor\u001b[39;00m data \u001b[38;5;129;01min\u001b[39;00m \u001b[38;5;28mself\u001b[39m\u001b[38;5;241m.\u001b[39m__data]\n\u001b[0;32m     83\u001b[0m \u001b[38;5;28;01mreturn\u001b[39;00m \u001b[38;5;28mself\u001b[39m\n",
      "\u001b[1;31mArithmeticError\u001b[0m: Can not divide by 0"
     ]
    }
   ],
   "source": [
    "print(vec / 0)"
   ]
  }
 ],
 "metadata": {
  "author": {
   "email": "robert.susik@p.lodz.pl",
   "name": "Robert Susik"
  },
  "kernelspec": {
   "display_name": "Python 3 (ipykernel)",
   "language": "python",
   "name": "python3"
  },
  "language_info": {
   "codemirror_mode": {
    "name": "ipython",
    "version": 3
   },
   "file_extension": ".py",
   "mimetype": "text/x-python",
   "name": "python",
   "nbconvert_exporter": "python",
   "pygments_lexer": "ipython3",
   "version": "3.9.7"
  },
  "toc": {
   "base_numbering": 1,
   "nav_menu": {},
   "number_sections": true,
   "sideBar": true,
   "skip_h1_title": false,
   "title_cell": "Table of Contents",
   "title_sidebar": "Contents",
   "toc_cell": false,
   "toc_position": {},
   "toc_section_display": true,
   "toc_window_display": false
  }
 },
 "nbformat": 4,
 "nbformat_minor": 5
}
