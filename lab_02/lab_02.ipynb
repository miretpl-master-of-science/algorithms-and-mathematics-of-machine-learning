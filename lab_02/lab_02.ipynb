{
 "cells": [
  {
   "cell_type": "markdown",
   "id": "9ed56307",
   "metadata": {},
   "source": [
    "# Algorithms and mathematics of machine learning\n",
    "## Laboratory 2\n",
    "\n",
    "To complete the tasks, please familiarize yourself with the methods, properties, and functions:\n",
    "`__repr__`, `__str__`, `__add__`, `__sub__`, `__eq__`, `__lt__`, `__gt__`, `__le__`, `__ge__`, `__ne__`, `__hash__`, `__truediv__`, `__mul__ `, `__class__`, `__name__`, `id`.\n",
    "\n",
    "Operators: https://docs.python.org/3/library/operator.html\n",
    "\n",
    "> NOTE: Please do not use external modules/libraries (except the _matplotlib_ library) in this lab.\n",
    "\n",
    "> NOTE 2: Error handling should be implemented as exceptions."
   ]
  },
  {
   "cell_type": "markdown",
   "source": [
    "### Task 1\n",
    "\n",
    "Write a `Vector` class providing the functionality:\n",
    "- represents a vector of any length,\n",
    "- an object initialized with a list (e.g. `Vector([1, 2, 3])`,\n",
    "- has a function that returns the modulus of the vector,\n",
    "- allows adding (`+`) and subtracting (`-`) vectors. Add error handling (different length (number of elements) of the vector),\n",
    "- ability to display a vector as a list using the `print(v)` function (`__str__` method),\n",
    "- running a cell containing only the name of a variable (type `Vector`) will display the name of type `Vector`, the address of the variable in memory (function `id`) and its content, e.g. `<Vector([1, 2, 3]) at 140185630442880>` (`__repr__` method)"
   ],
   "metadata": {
    "collapsed": false
   },
   "id": "a6ef6d31a8bea5ca"
  },
  {
   "cell_type": "code",
   "execution_count": 1,
   "id": "ac82ae76",
   "metadata": {
    "ExecuteTime": {
     "end_time": "2024-01-14T00:36:41.717744200Z",
     "start_time": "2024-01-14T00:36:39.144740Z"
    }
   },
   "outputs": [],
   "source": [
    "from typing import Union\n",
    "from math import sqrt\n",
    "from matplotlib.pyplot import arrow, show\n",
    "\n",
    "\n",
    "class Vector:\n",
    "    __data: list = None\n",
    "\n",
    "    def __init__(self, data: list) -> None:\n",
    "        self.__data = data\n",
    "\n",
    "    def __len__(self) -> int:\n",
    "        return len(self.__data)\n",
    "\n",
    "    def __add__(self, data: 'Vector') -> 'Vector':\n",
    "        self.__validate_length_of_vectors(data)\n",
    "\n",
    "        for i in range(len(self.__data)):\n",
    "            self.__data[i] += data.to_list()[i]\n",
    "\n",
    "        return self\n",
    "\n",
    "    def __sub__(self, data: 'Vector') -> 'Vector':\n",
    "        self.__validate_length_of_vectors(data)\n",
    "\n",
    "        for i in range(len(self.__data)):\n",
    "            self.__data[i] -= data.to_list()[i]\n",
    "\n",
    "        return self\n",
    "\n",
    "    def __str__(self) -> str:\n",
    "        return f'{self.__data}'\n",
    "\n",
    "    def __repr__(self) -> str:\n",
    "        return f'<{self.__class__.__name__}({self.__data}) at {hex(id(self))}>'\n",
    "\n",
    "    def __eq__(self, data: 'Vector') -> 'Vector':\n",
    "        self.__validate_length_of_vectors(data)\n",
    "        return Vector([value1 == value2 for value1, value2 in zip(self.__data, data.to_list())])\n",
    "\n",
    "    def __lt__(self, data: 'Vector') -> 'Vector':\n",
    "        self.__validate_length_of_vectors(data)\n",
    "        return Vector([value1 < value2 for value1, value2 in zip(self.__data, data.to_list())])\n",
    "        \n",
    "    def __gt__(self, data: 'Vector') -> 'Vector':\n",
    "        self.__validate_length_of_vectors(data)\n",
    "        return Vector([value1 > value2 for value1, value2 in zip(self.__data, data.to_list())])\n",
    "    \n",
    "    def __le__(self, data: 'Vector') -> 'Vector':\n",
    "        self.__validate_length_of_vectors(data)\n",
    "        return Vector([value1 <= value2 for value1, value2 in zip(self.__data, data.to_list())])\n",
    "\n",
    "    def __ge__(self, data: 'Vector') -> 'Vector':\n",
    "        self.__validate_length_of_vectors(data)\n",
    "        return Vector([value1 >= value2 for value1, value2 in zip(self.__data, data.to_list())])\n",
    "        \n",
    "    def __ne__(self, data: 'Vector') -> 'Vector':\n",
    "        self.__validate_length_of_vectors(data)\n",
    "        return Vector([value1 != value2 for value1, value2 in zip(self.__data, data.to_list())])\n",
    "\n",
    "    def __hash__(self) -> int:\n",
    "        return hash(tuple(self.__data))\n",
    "\n",
    "    def __truediv__(self, value: Union[float, int]) -> 'Vector':\n",
    "        self.__validate_if_value_is_scalar(value)\n",
    "        \n",
    "        if value == 0:\n",
    "            raise ArithmeticError('Can not divide by 0')\n",
    "        \n",
    "        self.__data = [data / value for data in self.__data]\n",
    "        return self\n",
    "    \n",
    "    def __mul__(self, value: Union[float, int]) -> 'Vector':\n",
    "        self.__validate_if_value_is_scalar(value)\n",
    "        self.__data = [data * value for data in self.__data]  \n",
    "        return self \n",
    "\n",
    "    def __validate_length_of_vectors(self, data: 'Vector') -> None:\n",
    "        if len(self.__data) != len(data.to_list()):\n",
    "            raise ValueError('Vectors should be of the same size')\n",
    "\n",
    "    def __validate_length_of_vector_for_plot(self) -> None:\n",
    "        if len(self.__data) != 2:\n",
    "            raise ValueError('Vector should be 2 dimensional (size of 2)')\n",
    "\n",
    "    @staticmethod\n",
    "    def __validate_if_value_is_scalar(value: Union[int, float]) -> None:\n",
    "        if not isinstance(value, (int, float)):\n",
    "            raise ValueError('Given value is not a scalar')\n",
    "\n",
    "    def mod(self) -> float:\n",
    "        return sqrt(sum([value ** 2 for value in self.__data]))\n",
    "\n",
    "    def to_list(self) -> list:\n",
    "        return self.__data\n",
    "\n",
    "    def plot(self) -> None:\n",
    "        self.__validate_length_of_vector_for_plot()\n",
    "        arrow(0, 0, self.__data[0], self.__data[1], head_width=0.1, head_length=0.1, fc='k', ec='k')\n",
    "        show()"
   ]
  },
  {
   "cell_type": "code",
   "outputs": [
    {
     "name": "stdout",
     "output_type": "stream",
     "text": [
      "Vector = [1, 2], vector module: 2.23606797749979, addition [2, 4], subtraction [0, 0]\n"
     ]
    }
   ],
   "source": [
    "vec = Vector([1, 2])\n",
    "print(f'Vector = {vec}, vector module: {vec.mod()}, addition {vec + vec}, subtraction {vec - vec}')"
   ],
   "metadata": {
    "collapsed": false,
    "ExecuteTime": {
     "end_time": "2024-01-14T00:36:41.758458Z",
     "start_time": "2024-01-14T00:36:41.728098400Z"
    }
   },
   "id": "17442da910503489",
   "execution_count": 2
  },
  {
   "cell_type": "code",
   "execution_count": 3,
   "id": "52ec5a44",
   "metadata": {
    "ExecuteTime": {
     "end_time": "2024-01-14T00:36:42.043435300Z",
     "start_time": "2024-01-14T00:36:41.762460100Z"
    }
   },
   "outputs": [
    {
     "data": {
      "text/plain": "<Vector([0, 0]) at 0x1193d2da380>"
     },
     "execution_count": 3,
     "metadata": {},
     "output_type": "execute_result"
    }
   ],
   "source": [
    "vec"
   ]
  },
  {
   "cell_type": "markdown",
   "id": "87da7375",
   "metadata": {},
   "source": [
    "### Task 2\n",
    "\n",
    "Add functions to the previously implemented class that allow you to compare vectors (their modules) using the operators: `==`, `>=`, `<=`, `>`, `<`, `!=`. The comparison is to be performed at the level of vector elements (_element wise_), below is an example:\n",
    "\n",
    "```ipython\n",
    "In [1]: a = Vector([1, 2, 3]) \\\n",
    "   ...: b = Vector([3, 2, 1]) \\\n",
    "   ...: a <= b\n",
    "Out[1]: <Vector([True, True, False]) at 140185575662832>\n",
    "```"
   ]
  },
  {
   "cell_type": "code",
   "execution_count": 4,
   "id": "3b99972a",
   "metadata": {
    "ExecuteTime": {
     "end_time": "2024-01-14T00:36:42.109433100Z",
     "start_time": "2024-01-14T00:36:42.052441400Z"
    }
   },
   "outputs": [],
   "source": [
    "vec1 = Vector([1, 2, 3])\n",
    "vec2 = Vector([3, 2, 1])"
   ]
  },
  {
   "cell_type": "code",
   "execution_count": 5,
   "id": "30424f1c",
   "metadata": {
    "ExecuteTime": {
     "end_time": "2024-01-14T00:36:42.151441200Z",
     "start_time": "2024-01-14T00:36:42.090441700Z"
    }
   },
   "outputs": [
    {
     "data": {
      "text/plain": "<Vector([False, True, False]) at 0x1193d2d8c70>"
     },
     "execution_count": 5,
     "metadata": {},
     "output_type": "execute_result"
    }
   ],
   "source": [
    "vec1 == vec2"
   ]
  },
  {
   "cell_type": "code",
   "execution_count": 6,
   "id": "fcd5a9ec",
   "metadata": {
    "ExecuteTime": {
     "end_time": "2024-01-14T00:36:42.258997800Z",
     "start_time": "2024-01-14T00:36:42.154442Z"
    }
   },
   "outputs": [
    {
     "data": {
      "text/plain": "<Vector([True, True, False]) at 0x1193d2d8f40>"
     },
     "execution_count": 6,
     "metadata": {},
     "output_type": "execute_result"
    }
   ],
   "source": [
    "vec1 <= vec2"
   ]
  },
  {
   "cell_type": "code",
   "execution_count": 7,
   "id": "2252458e",
   "metadata": {
    "ExecuteTime": {
     "end_time": "2024-01-14T00:36:42.379513400Z",
     "start_time": "2024-01-14T00:36:42.242989600Z"
    }
   },
   "outputs": [
    {
     "data": {
      "text/plain": "<Vector([False, True, True]) at 0x1193d2dbf70>"
     },
     "execution_count": 7,
     "metadata": {},
     "output_type": "execute_result"
    }
   ],
   "source": [
    "vec1 >= vec2"
   ]
  },
  {
   "cell_type": "code",
   "execution_count": 8,
   "id": "b39b3c59",
   "metadata": {
    "ExecuteTime": {
     "end_time": "2024-01-14T00:36:42.480620500Z",
     "start_time": "2024-01-14T00:36:42.329308900Z"
    }
   },
   "outputs": [
    {
     "data": {
      "text/plain": "<Vector([True, False, False]) at 0x1193d2d86d0>"
     },
     "execution_count": 8,
     "metadata": {},
     "output_type": "execute_result"
    }
   ],
   "source": [
    "vec1 < vec2"
   ]
  },
  {
   "cell_type": "code",
   "execution_count": 9,
   "id": "0e00d1da",
   "metadata": {
    "ExecuteTime": {
     "end_time": "2024-01-14T00:36:42.572212700Z",
     "start_time": "2024-01-14T00:36:42.368372500Z"
    }
   },
   "outputs": [
    {
     "data": {
      "text/plain": "<Vector([False, False, True]) at 0x1193d2d84c0>"
     },
     "execution_count": 9,
     "metadata": {},
     "output_type": "execute_result"
    }
   ],
   "source": [
    "vec1 > vec2"
   ]
  },
  {
   "cell_type": "code",
   "execution_count": 10,
   "id": "d1343d64",
   "metadata": {
    "ExecuteTime": {
     "end_time": "2024-01-14T00:36:42.575878800Z",
     "start_time": "2024-01-14T00:36:42.509845800Z"
    }
   },
   "outputs": [
    {
     "data": {
      "text/plain": "<Vector([True, False, True]) at 0x1193d2d84f0>"
     },
     "execution_count": 10,
     "metadata": {},
     "output_type": "execute_result"
    }
   ],
   "source": [
    "vec1 != vec2"
   ]
  },
  {
   "cell_type": "markdown",
   "id": "d8e9a446",
   "metadata": {},
   "source": [
    "### Task 3\n",
    "\n",
    "Add a function to the `Vector` class that allows you to display a vector on a graph (implement display using the `matplotlib` library).\n",
    "\n",
    "> NOTE: The function should only work for a vector with two dimensions (two-element list) - a 2D chart and display a message if the dimension is different.\n",
    "\n",
    "> Hint: you can use the function [matplotlib.pyplot.arrow](https://matplotlib.org/3.5.1/api/_as_gen/matplotlib.pyplot.arrow.html)"
   ]
  },
  {
   "cell_type": "code",
   "execution_count": 11,
   "id": "c9f9de7b",
   "metadata": {
    "ExecuteTime": {
     "end_time": "2024-01-14T00:36:42.812943500Z",
     "start_time": "2024-01-14T00:36:42.541089100Z"
    }
   },
   "outputs": [
    {
     "data": {
      "text/plain": "<Figure size 640x480 with 1 Axes>",
      "image/png": "[encoded data removed]"
     },
     "metadata": {},
     "output_type": "display_data"
    }
   ],
   "source": [
    "vec = Vector([1, 2])\n",
    "vec.plot()"
   ]
  },
  {
   "cell_type": "markdown",
   "id": "ebc3c411",
   "metadata": {},
   "source": [
    "### Task 4\n",
    "\n",
    "Add the ability to use an object of the `Vector` class as a key in the dictionary. E.g.:\n",
    "\n",
    "```python\n",
    "d = {\n",
    "    Vector([1, 2, 3]): 'Vector 1',\n",
    "    Vector([2, 2, 3]): 'Vector 2'\n",
    "}\n",
    "d[Vector([2, 2, 3])]\n",
    "```"
   ]
  },
  {
   "cell_type": "code",
   "execution_count": 12,
   "id": "d1db2d39",
   "metadata": {
    "ExecuteTime": {
     "end_time": "2024-01-14T00:36:42.950728700Z",
     "start_time": "2024-01-14T00:36:42.818946700Z"
    }
   },
   "outputs": [
    {
     "data": {
      "text/plain": "{<Vector([1, 2, 3]) at 0x1194550e140>: 1}"
     },
     "execution_count": 12,
     "metadata": {},
     "output_type": "execute_result"
    }
   ],
   "source": [
    "{Vector([1, 2, 3]): 1}"
   ]
  },
  {
   "cell_type": "markdown",
   "id": "8aec816a",
   "metadata": {},
   "source": [
    "### Task 5\n",
    "\n",
    "Add functionality:\n",
    "- division by a scalar (e.g. `Vector([2, 4]) / 2`),\n",
    "- multiplication by a scalar (e.g. `Vector([2, 4]) * 2`).\n",
    "\n",
    "> Hint: Remember to handle errors."
   ]
  },
  {
   "cell_type": "code",
   "execution_count": 13,
   "id": "2bb3d9bb",
   "metadata": {
    "ExecuteTime": {
     "end_time": "2024-01-14T00:36:42.953729100Z",
     "start_time": "2024-01-14T00:36:42.847411900Z"
    }
   },
   "outputs": [
    {
     "name": "stdout",
     "output_type": "stream",
     "text": [
      "[0.5, 1.0, 1.5]\n",
      "[1.0, 2.0, 3.0]\n",
      "[0.47619047619047616, 0.9523809523809523, 1.4285714285714286]\n",
      "[1.0476190476190477, 2.0952380952380953, 3.1428571428571432]\n"
     ]
    }
   ],
   "source": [
    "vec = Vector([1, 2, 3])\n",
    "\n",
    "print(vec / 2)\n",
    "print(vec * 2)\n",
    "print(vec / 2.1)\n",
    "print(vec * 2.2)"
   ]
  },
  {
   "cell_type": "code",
   "execution_count": 14,
   "id": "63feae6b",
   "metadata": {
    "ExecuteTime": {
     "end_time": "2024-01-14T00:36:44.371249900Z",
     "start_time": "2024-01-14T00:36:42.903597200Z"
    }
   },
   "outputs": [
    {
     "ename": "ArithmeticError",
     "evalue": "Can not divide by 0",
     "output_type": "error",
     "traceback": [
      "\u001B[1;31m---------------------------------------------------------------------------\u001B[0m",
      "\u001B[1;31mArithmeticError\u001B[0m                           Traceback (most recent call last)",
      "Cell \u001B[1;32mIn[14], line 1\u001B[0m\n\u001B[1;32m----> 1\u001B[0m \u001B[38;5;28mprint\u001B[39m(\u001B[43mvec\u001B[49m\u001B[43m \u001B[49m\u001B[38;5;241;43m/\u001B[39;49m\u001B[43m \u001B[49m\u001B[38;5;241;43m0\u001B[39;49m)\n",
      "Cell \u001B[1;32mIn[1], line 68\u001B[0m, in \u001B[0;36mVector.__truediv__\u001B[1;34m(self, value)\u001B[0m\n\u001B[0;32m     65\u001B[0m \u001B[38;5;28mself\u001B[39m\u001B[38;5;241m.\u001B[39m__validate_if_value_is_scalar(value)\n\u001B[0;32m     67\u001B[0m \u001B[38;5;28;01mif\u001B[39;00m value \u001B[38;5;241m==\u001B[39m \u001B[38;5;241m0\u001B[39m:\n\u001B[1;32m---> 68\u001B[0m     \u001B[38;5;28;01mraise\u001B[39;00m \u001B[38;5;167;01mArithmeticError\u001B[39;00m(\u001B[38;5;124m'\u001B[39m\u001B[38;5;124mCan not divide by 0\u001B[39m\u001B[38;5;124m'\u001B[39m)\n\u001B[0;32m     70\u001B[0m \u001B[38;5;28mself\u001B[39m\u001B[38;5;241m.\u001B[39m__data \u001B[38;5;241m=\u001B[39m [data \u001B[38;5;241m/\u001B[39m value \u001B[38;5;28;01mfor\u001B[39;00m data \u001B[38;5;129;01min\u001B[39;00m \u001B[38;5;28mself\u001B[39m\u001B[38;5;241m.\u001B[39m__data]\n\u001B[0;32m     71\u001B[0m \u001B[38;5;28;01mreturn\u001B[39;00m \u001B[38;5;28mself\u001B[39m\n",
      "\u001B[1;31mArithmeticError\u001B[0m: Can not divide by 0"
     ]
    }
   ],
   "source": [
    "print(vec / 0)"
   ]
  }
 ],
 "metadata": {
  "author": {
   "email": "robert.susik@p.lodz.pl",
   "name": "Robert Susik"
  },
  "kernelspec": {
   "display_name": "Python 3 (ipykernel)",
   "language": "python",
   "name": "python3"
  },
  "language_info": {
   "codemirror_mode": {
    "name": "ipython",
    "version": 3
   },
   "file_extension": ".py",
   "mimetype": "text/x-python",
   "name": "python",
   "nbconvert_exporter": "python",
   "pygments_lexer": "ipython3",
   "version": "3.9.7"
  },
  "toc": {
   "base_numbering": 1,
   "nav_menu": {},
   "number_sections": true,
   "sideBar": true,
   "skip_h1_title": false,
   "title_cell": "Table of Contents",
   "title_sidebar": "Contents",
   "toc_cell": false,
   "toc_position": {},
   "toc_section_display": true,
   "toc_window_display": false
  }
 },
 "nbformat": 4,
 "nbformat_minor": 5
}
