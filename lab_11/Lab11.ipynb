{
 "cells": [
  {
   "cell_type": "markdown",
   "id": "1d685a9d",
   "metadata": {
    "pycharm": {
     "name": "#%% md\n"
    }
   },
   "source": [
    "# Algorytmika i matematyka uczenia maszynowego \n",
    "## Laboratorium 11 - macierz odwrotna i wyznacznik macierzy\n",
    "\n",
    "\n",
    "### Zadanie 1 - szyfr Hilla\n",
    "\n",
    "Zaimplementuj dwie funkcje do kodowania i dekodowania wiadomości za pomocą szyfru [Hilla](https://pl.wikipedia.org/wiki/Szyfr_Hilla):\n",
    "* `encrypt(t, K)` - szyfruje tekst $t$ za pomocą klucza (macierzy) $K$.\n",
    "* `decrypt(s, K)` - deszyfruje kod $s$ za pomocą klucza (macierzy) $K$.\n",
    "\n",
    "#### Kodowanie\n",
    "\n",
    "W systemie kodowania ASCII litery A - Z zapisane są jako liczby z zakresu 65 - 90. Aby zaszyfrować tekst za pomocą klucza $K$ (macierz o wymiarach $m$ x $m$), należy zapisać znaki tekstu w postaci macierzy o wymiarach $m$ x $n$, a następnie wykonać następujące operacje:\n",
    "\n",
    "1. Utworzyć macierz szyfrującą $K$, której wyznacznik wynosi $det(K) = 1$.\n",
    "> Uwaga: jest to odstępstwo od oryginalnego algorytmu mające na celu uproszczenie przykładu.\n",
    "> Macierz taką można utworzyć z macierzy jednostkowej (`np.identity`), korzystając z operacji elementarnych np. dodając do jednego wiersza macierzy inny wiersz pomnożony przez skalar.\n",
    "1. Zamienić litery tekstu $t$ o długości $h$ na wektor liczb.\n",
    "1. Dopełnić (_padding_) zerami, aby można było wykonać kolejny krok.\n",
    "1. Przekształcić na macierz $X$ o wymiarach ($m$ x $n$), gdzie $n = \\lceil \\frac{h}{m} \\rceil$ (możesz użyć funkcji `reshape`).\n",
    "1. Wykonać operację $S = (KX)$.\n",
    "1. Skonwertować macierz $S$ na wektor (możesz użyć funkcji `flatten`) i zwrócić szyfrogram $s$ (zaszyfrowany tekst).\n",
    "\n",
    "\n",
    "> Uwaga 1: Przedstawiony algorytm jest uproszczonym algorytmem, posiadającym ograniczenie $det(K)=1$, które można pominąć, ale wtedy należy do macierzy kodującej wyznaczyć macierz odwrotną modulo 26 (liczba znaków A-Z, ale może być dowolna inna). Podobnie, należy macierz $S$ zamienić na modulo 26. **Istotne**: W tym przypadku należy pamiętać, że wyznacznik macierzy szyfrującej $det(K)$ nie może posiadać wspólnego dzielnika z liczbą 26 (czyli obie liczby muszą być względnie pierwsze). Dlaczego? Bo w przeciwnym wypadku nie istnieje liczba odwrotna do $det(K) \\textit{ mod } 26$.\n",
    "\n",
    "> Uwaga 2: ciąg $s$ może zawierać niedrukowalne znaki. Jeżeli chcesz tego uniknąć możesz np. zmapować znaki (65-90) do zakresu 0-25. Następnie przy wyświetlaniu przeprowadzić operację w drugą stronę.\n",
    "\n",
    "\n",
    "#### Dekodowanie\n",
    "\n",
    "Aby rozszyfrować zaszyfrowaną wiadomość $s$, należy:\n",
    "\n",
    "1. Zamienić ciąg $s$ na macierz $S$.\n",
    "1. Obliczyć macierz odwrotną $K^{-1}$ (funkcja `np.linalg.inv`).\n",
    "1. Rozszyfrować wiadomość wykonując operację $W = K^{-1} S$.\n",
    "1. Skonwertować wiadomość $W$ na ciąg tekstowy $w$.\n",
    "\n",
    "\n",
    "**Uwaga**: Jest to tylko laboratoryjny przykład na zastosowanie operacji macierzowych. Przedstawione rozwiązanie nie jest bezpieczne."
   ]
  },
  {
   "cell_type": "code",
   "execution_count": 84,
   "id": "56603989",
   "metadata": {
    "pycharm": {
     "name": "#%%\n"
    }
   },
   "outputs": [],
   "source": [
    "from numpy import ndarray, array, identity, append\n",
    "from numpy.linalg import inv, det\n",
    "import numpy as np\n",
    "\n",
    "\n",
    "def encrypt(t: str, k: int) -> tuple:\n",
    "    code = identity(k) * 10\n",
    "    text = array([ord(letter) for letter in list(t)])\n",
    "\n",
    "    if text.shape[0] % k > 0:\n",
    "        for _ in range(k - text.shape[0] % k):\n",
    "            text = append(text, array([0]))\n",
    "\n",
    "    text = text.reshape((k, int(text.shape[0] / k)))\n",
    "    s = code @ text\n",
    "\n",
    "    return ''.join([chr(txt) for txt in s.flatten()[:len(t)].astype(int)]), code\n",
    "\n",
    "\n",
    "def decrypt(s: str, k: ndarray) -> str:\n",
    "    text = array([ord(ss) for ss in list(s)])\n",
    "\n",
    "    if text.shape[0] % k.shape[0] > 0:\n",
    "        for _ in range(k.shape[0] - text.shape[0] % k.shape[0]):\n",
    "            text = append(text, array([0]))\n",
    "\n",
    "    text = text.reshape((k.shape[0], int(text.shape[0] / k.shape[0])))\n",
    "    decoded = inv(k) @ text\n",
    "\n",
    "    return ''.join([chr(txt) for txt in decoded.flatten()[:len(s)].astype(int)])"
   ]
  },
  {
   "cell_type": "code",
   "execution_count": 85,
   "outputs": [],
   "source": [
    "text = 'ala ma kota'"
   ],
   "metadata": {
    "collapsed": false,
    "pycharm": {
     "name": "#%%\n"
    }
   }
  },
  {
   "cell_type": "code",
   "execution_count": 86,
   "outputs": [
    {
     "data": {
      "text/plain": "'ϊиϊŀтϊŀЮі҈ϊ'"
     },
     "execution_count": 86,
     "metadata": {},
     "output_type": "execute_result"
    }
   ],
   "source": [
    "t_code, code = encrypt(text, 3)\n",
    "t_code"
   ],
   "metadata": {
    "collapsed": false,
    "pycharm": {
     "name": "#%%\n"
    }
   }
  },
  {
   "cell_type": "code",
   "execution_count": 87,
   "outputs": [
    {
     "data": {
      "text/plain": "'ala ma kota'"
     },
     "execution_count": 87,
     "metadata": {},
     "output_type": "execute_result"
    }
   ],
   "source": [
    "decrypt(t_code, code)"
   ],
   "metadata": {
    "collapsed": false,
    "pycharm": {
     "name": "#%%\n"
    }
   }
  },
  {
   "cell_type": "markdown",
   "id": "08744169",
   "metadata": {
    "pycharm": {
     "name": "#%% md\n"
    }
   },
   "source": [
    "### Zadanie 2\n",
    "\n",
    "Zaimplementować funkcję, która przyjmuje macierz kwadratową jako argument i zwraca jej wyznacznik obliczony zgodnie ze wzorem [Leibniza](https://en.wikipedia.org/wiki/Leibniz_formula_for_determinants) (_definicja permutacyjna_) i porównaj z wynikiem gotowej funkcji z biblioteki numpy `np.linalg.det`.\n",
    "\n",
    "$$\n",
    "\\text{det}(A) = \\sum_{\\sigma \\in S_n}\\left(\\text{sgn}(\\sigma)\\prod_{i=0}^{n-1}a_{i, \\sigma(i)}\\right)\n",
    "$$\n",
    "\n",
    ", gdzie:\n",
    "\n",
    "* $S_n$ - [grupa permutacji](https://en.wikipedia.org/wiki/Symmetric_group) (dla macierzy 3x3 będą to permutacje ze zbioru {0, 1, 2})\n",
    "* $\\text{sgn}$ - jest to symbol \"+\", \"-\" w zależny od [parzystości permutacji](https://en.wikipedia.org/wiki/Parity_of_a_permutation). Np. dla permutacji `[1, 2, 0]` będzie to \"+\" (trzeba wykonać dwie operacje - zamienić `0` z `1` a później `0` z `2`, a dla permutacji `[0, 2, 1]` będzie \"-\" ponieważ wystarczy jedna operacja (zamiana `1` z `2`).\n",
    "* $\\sigma$ - permutacja (element z grupy permutacji $S_n$)\n",
    "\n",
    "##### Przykład dla macierzy 3x3\n",
    "\n",
    "| $\\sigma$ | $\\text{sgn}$ | $\\text{sgn}(\\sigma)\\prod_{i=0}^{n-1}a_{i, \\sigma(i)}$ |\n",
    "| :---     | :---         | ---: |\n",
    "| 1, 2, 3  | +            | $+a_{1,1}a_{2,2}a_{3,3}$ |\n",
    "| 1, 3, 2  | -            | $-a_{1,1}a_{2,3}a_{3,2}$ |\n",
    "| 3, 1, 2  | +            | $+a_{1,3}a_{2,1}a_{3,2}$ |\n",
    "| 3, 2, 1  | -            | $-a_{1,3}a_{2,2}a_{3,1}$ |\n",
    "| 2, 3, 1  | +            | $+a_{1,2}a_{2,3}a_{3,1}$ |\n",
    "| 2, 1, 3  | -            | $-a_{1,2}a_{2,1}a_{3,3}$ |\n",
    "\n",
    "$\\text{det}(A) = a_{1,1}a_{2,2}a_{3,3} - a_{1,1}a_{2,3}a_{3,2} + a_{1,3}a_{2,1}a_{3,2} - a_{1,3}a_{2,2}a_{3,1} + a_{1,2}a_{2,3}a_{3,1} - a_{1,2}a_{2,1}a_{3,3}$\n",
    "\n",
    "> Uwaga 1: Aby sprawdzić parzystość permutacji możesz użyć funkcji `parity` z biblioteki [`sympy`](https://docs.sympy.org/latest/modules/combinatorics/permutations.html#sympy.combinatorics.permutations.Permutation.parity). Przykład: \n",
    "    ```from sympy.combinatorics import Permutation\n",
    "Permutation([0, 2, 1]).parity()\n",
    "    ```\n",
    "    \n",
    "> Uwaga 2: W celu wygenerowania permutacji możesz użyć funkcji `permutations` z modułu [`itertools`](https://docs.python.org/3/library/itertools.html#itertools.permutations)\n",
    "\n",
    "> Uwaga 3: Pamiętaj, że w numpy porównywanie liczb zmiennoprzecinkowych wykonuje się za pomocą funkcji [`allclose`](https://numpy.org/doc/stable/reference/generated/numpy.allclose.html)"
   ]
  },
  {
   "cell_type": "code",
   "execution_count": 115,
   "id": "65ad8056",
   "metadata": {
    "pycharm": {
     "name": "#%%\n"
    }
   },
   "outputs": [
    {
     "name": "stdout",
     "output_type": "stream",
     "text": [
      "True\n"
     ]
    }
   ],
   "source": [
    "from numpy.random import randint\n",
    "from numpy import prod, allclose\n",
    "from itertools import permutations\n",
    "from sympy.combinatorics import Permutation\n",
    "\n",
    "\n",
    "def determinant(matrix: ndarray) -> float:\n",
    "    idx = list(range(matrix.shape[0]))\n",
    "    result = 0.0\n",
    "\n",
    "    for perm in permutations(idx):\n",
    "        val = -1 if Permutation(perm).parity() == 1 else 1\n",
    "        result += val * prod([matrix[i, perm[i]] for i in idx])\n",
    "\n",
    "    return result\n",
    "\n",
    "\n",
    "mat = randint(low=0, high=10, size=(4, 4))\n",
    "print(allclose(determinant(mat), det(mat)))"
   ]
  }
 ],
 "metadata": {
  "author": {
   "email": "robert.susik@p.lodz.pl",
   "name": "Robert Susik"
  },
  "kernelspec": {
   "display_name": "Python 3 (ipykernel)",
   "language": "python",
   "name": "python3"
  },
  "language_info": {
   "codemirror_mode": {
    "name": "ipython",
    "version": 3
   },
   "file_extension": ".py",
   "mimetype": "text/x-python",
   "name": "python",
   "nbconvert_exporter": "python",
   "pygments_lexer": "ipython3",
   "version": "3.8.11"
  },
  "toc": {
   "base_numbering": 1,
   "nav_menu": {},
   "number_sections": true,
   "sideBar": true,
   "skip_h1_title": false,
   "title_cell": "Table of Contents",
   "title_sidebar": "Contents",
   "toc_cell": false,
   "toc_position": {},
   "toc_section_display": true,
   "toc_window_display": false
  }
 },
 "nbformat": 4,
 "nbformat_minor": 5
}