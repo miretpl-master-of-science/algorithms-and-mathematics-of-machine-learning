{
 "cells": [
  {
   "cell_type": "markdown",
   "source": [
    "# Algorithms and mathematics of machine learning\n",
    "## Laboratory 11 - inverse matrix and matrix determinant"
   ],
   "metadata": {
    "collapsed": false
   },
   "id": "a4d916f38774f9c4"
  },
  {
   "cell_type": "markdown",
   "id": "1d685a9d",
   "metadata": {
    "pycharm": {
     "name": "#%% md\n"
    }
   },
   "source": [
    "### Task 1 - Hill's cipher\n",
    "\n",
    "Implement two functions to encode and decode messages using the [Hill](https://en.wikipedia.org/wiki/Hill_cipher) cipher:\n",
    "* `encrypt(t, K)` - encrypts the text $t$ using the key (matrix) $K$.\n",
    "* `decrypt(s, K)` - decrypts the $s$ code using the key (matrix) $K$.\n",
    "\n",
    "#### Coding\n",
    "\n",
    "In the ASCII coding system, the letters A-Z are written as numbers in the range 65-90. To encrypt the text using the key $K$ (matrix with dimensions $m$ x $m$), you must save the text characters in the form of a matrix with dimensions $m$ x $n$ and then perform the following operations:\n",
    "1. Create an encryption matrix $K$ whose determinant is $det(K) = 1$.\n",
    "   > Note: This is a departure from the original algorithm to simplify the example.\n",
    "   > Such a matrix can be created from an identity matrix (`np.identity`), using elementary operations, e.g. adding to one row of the matrix another row multiplied by a scalar.\n",
    "2. Convert the text letters $t$ of length $h$ into a vector of numbers.\n",
    "3. Pad (_padding_) with zeros so that the next step can be performed.\n",
    "4. Transform into a $X$ matrix of dimensions ($m$ x $n$), where $n = \\lceil \\frac{h}{m} \\rceil$ (you can use the `reshape` function).\n",
    "5. Perform the operation $S = (KX)$.\n",
    "6. Convert the matrix $S$ to a vector (you can use the `flatten` function) and return the cryptogram $s$ (encrypted text).\n",
    "\n",
    "> Note 1: The presented algorithm is a simplified algorithm with the limit $det(K)=1$, which can be omitted, but then the inverse modulo 26 matrix must be determined for the coding matrix (the number of characters A-Z, but it can be any other). Similarly, the matrix $S$ should be changed to modulo 26.<br>**Important**: In this case, remember that the determinant of the encryption matrix $det(K)$ cannot have a common divisor with the number 26 (i.e. both numbers must be relatively prime). Why? Because otherwise there is no inverse number to $det(K) \\textit{ mod } 26$.\n",
    "\n",
    "> Note 2: the string $s$ may contain unprintable characters. If you want to avoid this, you can, for example, map the characters (65-90) to the range 0-25. Then perform the operation in the opposite direction while displaying.\n",
    "\n",
    "#### Decoding\n",
    "\n",
    "To decrypt an encrypted message $s$:\n",
    "1. Convert the string $s$ into a matrix $S$.\n",
    "2. Calculate the inverse matrix $K^{-1}$ (function `np.linalg.inv`).\n",
    "3. Decrypt the message by performing the operation $W = K^{-1} S$.\n",
    "4. Convert the message $W$ to the text string $w$.\n",
    "\n",
    "> Note: This is only a laboratory example of the use of matrix operations. The presented solution is not safe."
   ]
  },
  {
   "cell_type": "code",
   "execution_count": 1,
   "id": "56603989",
   "metadata": {
    "pycharm": {
     "name": "#%%\n"
    },
    "ExecuteTime": {
     "end_time": "2024-01-14T23:24:58.553715Z",
     "start_time": "2024-01-14T23:24:58.192050600Z"
    }
   },
   "outputs": [],
   "source": [
    "from numpy import ndarray, array, identity, append\n",
    "from numpy.linalg import inv, det\n",
    "\n",
    "\n",
    "def encrypt(t: str, k: int) -> tuple:\n",
    "    code = identity(k) * 10\n",
    "    text = array([ord(letter) for letter in list(t)])\n",
    "\n",
    "    if text.shape[0] % k > 0:\n",
    "        for _ in range(k - text.shape[0] % k):\n",
    "            text = append(text, array([0]))\n",
    "\n",
    "    text = text.reshape((k, int(text.shape[0] / k)))\n",
    "    s = code @ text\n",
    "\n",
    "    return ''.join([chr(txt) for txt in s.flatten()[:len(t)].astype(int)]), code\n",
    "\n",
    "\n",
    "def decrypt(s: str, k: ndarray) -> str:\n",
    "    text = array([ord(ss) for ss in list(s)])\n",
    "\n",
    "    if text.shape[0] % k.shape[0] > 0:\n",
    "        for _ in range(k.shape[0] - text.shape[0] % k.shape[0]):\n",
    "            text = append(text, array([0]))\n",
    "\n",
    "    text = text.reshape((k.shape[0], int(text.shape[0] / k.shape[0])))\n",
    "    decoded = inv(k) @ text\n",
    "\n",
    "    return ''.join([chr(txt) for txt in decoded.flatten()[:len(s)].astype(int)])"
   ]
  },
  {
   "cell_type": "code",
   "execution_count": 2,
   "outputs": [],
   "source": [
    "text = 'example text'"
   ],
   "metadata": {
    "collapsed": false,
    "pycharm": {
     "name": "#%%\n"
    },
    "ExecuteTime": {
     "end_time": "2024-01-14T23:25:05.953914Z",
     "start_time": "2024-01-14T23:25:05.930965100Z"
    }
   },
   "id": "8433f92291f70217"
  },
  {
   "cell_type": "code",
   "execution_count": 3,
   "outputs": [
    {
     "data": {
      "text/plain": "'ϲҰϊтѠиϲŀ҈ϲҰ҈'"
     },
     "execution_count": 3,
     "metadata": {},
     "output_type": "execute_result"
    }
   ],
   "source": [
    "t_code, code = encrypt(text, 3)\n",
    "t_code"
   ],
   "metadata": {
    "collapsed": false,
    "pycharm": {
     "name": "#%%\n"
    },
    "ExecuteTime": {
     "end_time": "2024-01-14T23:25:08.063664900Z",
     "start_time": "2024-01-14T23:25:08.026979800Z"
    }
   },
   "id": "8746ac69c15c1849"
  },
  {
   "cell_type": "code",
   "execution_count": 4,
   "outputs": [
    {
     "data": {
      "text/plain": "'example text'"
     },
     "execution_count": 4,
     "metadata": {},
     "output_type": "execute_result"
    }
   ],
   "source": [
    "decrypt(t_code, code)"
   ],
   "metadata": {
    "collapsed": false,
    "pycharm": {
     "name": "#%%\n"
    },
    "ExecuteTime": {
     "end_time": "2024-01-14T23:25:10.765444300Z",
     "start_time": "2024-01-14T23:25:10.720779800Z"
    }
   },
   "id": "57126d29b01d1071"
  },
  {
   "cell_type": "markdown",
   "id": "08744169",
   "metadata": {
    "pycharm": {
     "name": "#%% md\n"
    }
   },
   "source": [
    "### Task 2\n",
    "\n",
    "Implement a function that takes a square matrix as an argument and returns its determinant calculated according to [Leibniz](https://en.wikipedia.org/wiki/Leibniz_formula_for_determinants) (_permutation definition_) and compare with the result of the ready function from the numpy library `np.linalg.det`.\n",
    "\n",
    "$$\n",
    "\\text{det}(A) = \\sum_{\\sigma \\in S_n}\\left(\\text{sgn}(\\sigma)\\prod_{i=0}^{n-1}a_{i, \\sigma(i)}\\right)\n",
    "$$\n",
    "\n",
    "where:\n",
    "\n",
    "* $S_n$ - [symmetric group](https://en.wikipedia.org/wiki/Symmetric_group) (for a 3x3 matrix these will be permutations from the set {0, 1, 2})\n",
    "* $\\text{sgn}$ - this is the symbol \"+\", \"-\" depending on the [parity of the permutation](https://en.wikipedia.org/wiki/Parity_of_a_permutation). E.g. for the permutation `[1, 2, 0]` it will be \"+\" (you need to perform two operations - replace `0` with `1` and then `0` with `2`, and for the permutation `[0, 2 , 1]` will be \"-\" because one operation is enough (replacing `1` with `2`).\n",
    "* $\\sigma$ - permutation (element from the permutation group $S_n$)\n",
    "\n",
    "##### Example for a 3x3 matrix\n",
    "\n",
    "| $\\sigma$  | $\\text{sgn}$  | $\\text{sgn}(\\sigma)\\prod_{i=0}^{n-1}a_{i, \\sigma(i)}$ |\n",
    "|:----------|:--------------|------------------------------------------------------:|\n",
    "| 1, 2, 3   | +             |                              $+a_{1,1}a_{2,2}a_{3,3}$ |\n",
    "| 1, 3, 2   | -             |                              $-a_{1,1}a_{2,3}a_{3,2}$ |\n",
    "| 3, 1, 2   | +             |                              $+a_{1,3}a_{2,1}a_{3,2}$ |\n",
    "| 3, 2, 1   | -             |                              $-a_{1,3}a_{2,2}a_{3,1}$ |\n",
    "| 2, 3, 1   | +             |                              $+a_{1,2}a_{2,3}a_{3,1}$ |\n",
    "| 2, 1, 3   | -             |                              $-a_{1,2}a_{2,1}a_{3,3}$ |\n",
    "\n",
    "$\\text{det}(A) = a_{1,1}a_{2,2}a_{3,3} - a_{1,1}a_{2,3}a_{3,2} + a_{1,3}a_{2,1}a_{3,2} - a_{1,3}a_{2,2}a_{3,1} + a_{1,2}a_{2,3}a_{3,1} - a_{1,2}a_{2,1}a_{3,3}$\n",
    "\n",
    "> Note 1: To check the parity of permutations you can use the `parity` function from the [`sympy`](https://docs.sympy.org/latest/modules/combinatorics/permutations.html#sympy.combinatorics.permutations.Permutation.parity). Example: \n",
    "> ```python\n",
    "> from sympy.combinatorics import Permutation\n",
    "> Permutation([0, 2, 1]).parity()\n",
    "> ```\n",
    "\n",
    "> Note 2: To generate permutations you can use the `permutations` function from the [`itertools`](https://docs.python.org/3/library/itertools.html#itertools.permutations) module\n",
    "\n",
    "> Note 3: Remember that in numpy, comparing floating point numbers is done using the function [`allclose`](https://numpy.org/doc/stable/reference/generated/numpy.allclose.html)"
   ]
  },
  {
   "cell_type": "code",
   "execution_count": 5,
   "id": "65ad8056",
   "metadata": {
    "pycharm": {
     "name": "#%%\n"
    },
    "ExecuteTime": {
     "end_time": "2024-01-14T23:39:58.455897800Z",
     "start_time": "2024-01-14T23:39:56.746467200Z"
    }
   },
   "outputs": [
    {
     "name": "stdout",
     "output_type": "stream",
     "text": [
      "True\n"
     ]
    }
   ],
   "source": [
    "from numpy.random import randint\n",
    "from numpy import prod, allclose\n",
    "from itertools import permutations\n",
    "from sympy.combinatorics import Permutation\n",
    "\n",
    "\n",
    "def determinant(matrix: ndarray) -> float:\n",
    "    idx = list(range(matrix.shape[0]))\n",
    "    result = 0.0\n",
    "\n",
    "    for perm in permutations(idx):\n",
    "        val = -1 if Permutation(perm).parity() == 1 else 1\n",
    "        result += val * prod([matrix[i, perm[i]] for i in idx])\n",
    "\n",
    "    return result\n",
    "\n",
    "\n",
    "mat = randint(low=0, high=10, size=(4, 4))\n",
    "print(allclose(determinant(mat), det(mat)))"
   ]
  }
 ],
 "metadata": {
  "author": {
   "email": "robert.susik@p.lodz.pl",
   "name": "Robert Susik"
  },
  "kernelspec": {
   "display_name": "Python 3 (ipykernel)",
   "language": "python",
   "name": "python3"
  },
  "language_info": {
   "codemirror_mode": {
    "name": "ipython",
    "version": 3
   },
   "file_extension": ".py",
   "mimetype": "text/x-python",
   "name": "python",
   "nbconvert_exporter": "python",
   "pygments_lexer": "ipython3",
   "version": "3.8.11"
  },
  "toc": {
   "base_numbering": 1,
   "nav_menu": {},
   "number_sections": true,
   "sideBar": true,
   "skip_h1_title": false,
   "title_cell": "Table of Contents",
   "title_sidebar": "Contents",
   "toc_cell": false,
   "toc_position": {},
   "toc_section_display": true,
   "toc_window_display": false
  }
 },
 "nbformat": 4,
 "nbformat_minor": 5
}
