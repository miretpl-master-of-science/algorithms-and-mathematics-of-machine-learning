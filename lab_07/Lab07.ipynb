{
 "cells": [
  {
   "cell_type": "markdown",
   "id": "59b5dc28",
   "metadata": {
    "pycharm": {
     "name": "#%% md\n"
    }
   },
   "source": [
    "# Algorytmika i matematyka uczenia maszynowego \n",
    "## Laboratorium 7\n"
   ]
  },
  {
   "cell_type": "markdown",
   "id": "01f97ff3",
   "metadata": {
    "pycharm": {
     "name": "#%% md\n"
    }
   },
   "source": [
    "### Zadanie 1\n",
    "\n",
    "Z miasta A do miasta B kierowca przejechał ze średnią szybkością 60 km/h. Z powrotem jechał szybciej, ze średnią 80 km/h. Jaka była jego średnia szybkość na całej trasie? \n",
    "\n",
    "**Uwaga:** nie używaj gotowych implementacji.\n",
    "\n",
    "> Wskazówka: średnia harmoniczna."
   ]
  },
  {
   "cell_type": "code",
   "execution_count": 1,
   "id": "b7313777",
   "metadata": {
    "pycharm": {
     "name": "#%%\n"
    }
   },
   "outputs": [
    {
     "name": "stdout",
     "output_type": "stream",
     "text": [
      "Średnia szybkość na całej trasie wynosi: 68.57 km/h\n"
     ]
    }
   ],
   "source": [
    "from typing import List\n",
    "\n",
    "\n",
    "def harmonic_mean(data: List) -> float:\n",
    "    return len(data) / sum([1 / value for value in data])\n",
    "\n",
    "print(f'Średnia szybkość na całej trasie wynosi: {round(harmonic_mean([60, 80]), 2)} km/h')"
   ]
  },
  {
   "cell_type": "markdown",
   "id": "ca4e7af2",
   "metadata": {
    "pycharm": {
     "name": "#%% md\n"
    }
   },
   "source": [
    "### Zadanie 2\n",
    "\n",
    "Wyobraźmy sobie miasto o liczbie 700 tys. mieszkańców. W mieście pojawiła się choroba i wiemy, że jedna osoba na 1000 zachorowała. Nie wiemy, które to dokładnie osoby, ale jest dostępny test, którego skuteczność wynosi 99%. Teraz wcielamy się w pacjenta, który przeprowadził test, a wynik testu jest pozytywny. Chcemy dowiedzieć się, jakie jest prawdopodobieństwo, że zachorowaliśmy.\n",
    "\n",
    "#### A)\n",
    "\n",
    "Przeprowadzić symulację komputerową:\n",
    "\n",
    "- Generujemy listę wielkości 700 tys.\n",
    "- Losowo wybieramy 700 tys./1000 (bo jedna na 1000 osob zachorowała) osób i zaznaczamy je jako chore.\n",
    "- Wybieramy losowo po 1% osob chorych i zdrowych, a następnie zaznaczamy ich diagnoze na nieprawidlowa (bo skutecznosc testu wynosi 99%).\n",
    "- Oblicz jakie jest prawdopodobienstwo ze osoba z pozytywnym wynikiem testu jest faktycznie chora (`liczba osób chorych z wynikiem pozytywnym` / `liczba wszystkich osob z wynikiem pozytywnym`).\n",
    "\n"
   ]
  },
  {
   "cell_type": "code",
   "execution_count": 13,
   "id": "0fea1c5d",
   "metadata": {
    "pycharm": {
     "name": "#%%\n"
    }
   },
   "outputs": [
    {
     "name": "stdout",
     "output_type": "stream",
     "text": [
      "Time: 0.06299996376037598, result: 9.01639344262295\n"
     ]
    }
   ],
   "source": [
    "from numpy import array\n",
    "from numpy.random import choice\n",
    "from time import time\n",
    "\n",
    "CITIZENS_QUANTITY = 700_000\n",
    "SICK_RATE = 1 / 1_000\n",
    "\n",
    "start = time()\n",
    "\n",
    "citizens = array([False for _ in range(CITIZENS_QUANTITY)]) # False osoba zdrowa, True osoba chora\n",
    "citizens[choice(CITIZENS_QUANTITY, int(CITIZENS_QUANTITY * SICK_RATE), replace=False)] = True\n",
    "\n",
    "healthy = citizens[citizens == True]\n",
    "sick = citizens[citizens == False]\n",
    "\n",
    "healthy[choice(healthy.shape[0], int(healthy.shape[0] * 0.01), replace=False)] = False\n",
    "sick[choice(sick.shape[0], int(sick.shape[0] * 0.01), replace=False)] = True\n",
    "\n",
    "result = healthy.sum() / (healthy.sum() + sick.sum()) * 100\n",
    "end_1 = time() - start\n",
    "print(f'Time: {end_1}, result: {result}')"
   ]
  },
  {
   "cell_type": "markdown",
   "id": "46aa035b",
   "metadata": {
    "pycharm": {
     "name": "#%% md\n"
    }
   },
   "source": [
    "#### B)\n",
    "\n",
    "Napisać funkcję, która zwróci wynik obliczony ze wzoru Bayesa. Zmierz i porównaj czas obliczeń w zad. A i zad. B\n",
    "\n"
   ]
  },
  {
   "cell_type": "code",
   "execution_count": 18,
   "id": "1119d040",
   "metadata": {
    "pycharm": {
     "name": "#%%\n"
    }
   },
   "outputs": [
    {
     "name": "stdout",
     "output_type": "stream",
     "text": [
      "Time: 0.0, result: 9.016393442622944\n"
     ]
    }
   ],
   "source": [
    "def bayes_formula(chance: float, test_sensitivity: float) -> float:\n",
    "    return test_sensitivity * chance / (test_sensitivity * chance + (1 - test_sensitivity) * (1 - chance))\n",
    "\n",
    "start = time()\n",
    "result = bayes_formula(chance=0.001, test_sensitivity=0.99) * 100\n",
    "end_2 = time() - start\n",
    "\n",
    "print(f'Time: {end_2}, result: {result}')"
   ]
  },
  {
   "cell_type": "code",
   "execution_count": 19,
   "outputs": [
    {
     "name": "stdout",
     "output_type": "stream",
     "text": [
      "Time difference between A) and B): 0.06299996376037598\n"
     ]
    }
   ],
   "source": [
    "print(f'Time difference between A) and B): {end_1 - end_2}')"
   ],
   "metadata": {
    "collapsed": false,
    "pycharm": {
     "name": "#%%\n"
    }
   }
  },
  {
   "cell_type": "markdown",
   "id": "2850f724",
   "metadata": {
    "pycharm": {
     "name": "#%% md\n"
    }
   },
   "source": [
    "#### C)\n",
    "\n",
    "Wyświetl wykres, gdzie na osi X znajduje się _czułość testu_ a na osi Y znajduje się _prawdopodobieństwo, że osoba z pozytywnym wynikiem jest chora_."
   ]
  },
  {
   "cell_type": "code",
   "execution_count": 32,
   "id": "7359c283",
   "metadata": {
    "pycharm": {
     "name": "#%%\n"
    }
   },
   "outputs": [
    {
     "data": {
      "text/plain": "<Figure size 1080x720 with 1 Axes>",
      "image/png": "[encoded data removed]"
     },
     "metadata": {
      "needs_background": "light"
     },
     "output_type": "display_data"
    }
   ],
   "source": [
    "from matplotlib.pyplot import plot, xlabel, ylabel, title, show, figure\n",
    "from numpy import arange\n",
    "\n",
    "x = arange(0, 1, 0.01)\n",
    "\n",
    "figure(figsize=(15, 10))\n",
    "plot(x, bayes_formula(chance=0.001, test_sensitivity=x))\n",
    "xlabel('Test sensitivity')\n",
    "ylabel('Probability if positive test result on sick person')\n",
    "show()"
   ]
  },
  {
   "cell_type": "markdown",
   "id": "2b0253f8",
   "metadata": {
    "pycharm": {
     "name": "#%% md\n"
    }
   },
   "source": [
    "### Zadanie 3\n",
    "\n",
    "Sprawdź (symulacją) jak często trafia się \"ręka\" zawierająca $\\ge 8$ kart w jednym kolorze z 13 kart. Czyli losujemy 13 kart z 52 (wiec \"ręki\" jak w brydzu) tak długo, aż w jakimś kolorze dostaniemy $\\ge 8$ kart. Przeprowadź 1000 takich prob i oblicz średnią. Dodatkowo wypisz jedną (np. ostatnią) taką wylosowaną rękę."
   ]
  },
  {
   "cell_type": "code",
   "execution_count": 102,
   "id": "622ec278",
   "metadata": {
    "pycharm": {
     "name": "#%%\n"
    }
   },
   "outputs": [
    {
     "name": "stdout",
     "output_type": "stream",
     "text": [
      "Last hand: [2 2 1 0 3 1 0 3 3 2 2 0 3]\n",
      "Probability of getting 8 cards in same color is 0.008%\n"
     ]
    }
   ],
   "source": [
    "# 0 1 2 3 colors of cards\n",
    "from itertools import chain\n",
    "from numpy import empty\n",
    "from numpy.random import shuffle\n",
    "from collections import Counter\n",
    "\n",
    "\n",
    "ITER_COUNT = 1_000\n",
    "\n",
    "cards = array(list(chain(*[[0, 1, 2, 3] for _ in range(13)])))\n",
    "shuffle(cards)\n",
    "\n",
    "score = 0\n",
    "hand = empty((13,))\n",
    "for i in range(ITER_COUNT):\n",
    "    hand = choice(cards, 13, replace=False)\n",
    "    counter = Counter(hand)\n",
    "\n",
    "    if max(counter.values()) >= 8:\n",
    "        score += 1\n",
    "\n",
    "score /= ITER_COUNT\n",
    "\n",
    "print(f'Last hand: {hand}')\n",
    "print(f'Probability of getting 8 cards in same color is {score}%')"
   ]
  }
 ],
 "metadata": {
  "author": {
   "email": "robert.susik@p.lodz.pl",
   "name": "Robert Susik"
  },
  "kernelspec": {
   "display_name": "Python 3 (ipykernel)",
   "language": "python",
   "name": "python3"
  },
  "language_info": {
   "codemirror_mode": {
    "name": "ipython",
    "version": 3
   },
   "file_extension": ".py",
   "mimetype": "text/x-python",
   "name": "python",
   "nbconvert_exporter": "python",
   "pygments_lexer": "ipython3",
   "version": "3.8.13"
  },
  "toc": {
   "base_numbering": 1,
   "nav_menu": {},
   "number_sections": true,
   "sideBar": true,
   "skip_h1_title": false,
   "title_cell": "Table of Contents",
   "title_sidebar": "Contents",
   "toc_cell": false,
   "toc_position": {},
   "toc_section_display": true,
   "toc_window_display": false
  }
 },
 "nbformat": 4,
 "nbformat_minor": 5
}